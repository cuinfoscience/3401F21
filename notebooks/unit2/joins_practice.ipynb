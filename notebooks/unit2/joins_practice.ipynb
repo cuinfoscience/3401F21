{
 "cells": [
  {
   "cell_type": "markdown",
   "metadata": {},
   "source": [
    "### More joins"
   ]
  },
  {
   "cell_type": "markdown",
   "metadata": {},
   "source": [
    "### Joins\n",
    "\n",
    "\n",
    "\n",
    "Joining data is **very** fundamental in data analysis. There are different ways to join data and it is important to understand the difference.\n",
    "\n",
    "This notebook is designed to give you practice. For this notebook, we will be using a small dataset from a pet hotel. The data consists of \"guests\" and details about when the \"guests\" have been fed. "
   ]
  },
  {
   "cell_type": "code",
   "execution_count": 1,
   "metadata": {},
   "outputs": [],
   "source": [
    "import pandas as pd\n",
    "\n",
    "guests = pd.DataFrame({'name': [\"sir john\", \"fluffy\", \"mittens\", \"taco\", \"gwyneth\"], \n",
    "                       \"species\": [\"dog\", \"cat\", \"cat\", \"cat\", \"dog\"],\n",
    "                       \"weight(lb)\": [55, 9, 12, 10, 33]})\n",
    "\n",
    "feedings = pd.DataFrame({\"date\": [\"2020-06-29 08:22:14\", \"2020-06-29 08:07:17\",\n",
    "                           \"2020-06-29 08:23:33\", \"2020-06-28 08:02:35\",\n",
    "                           \"2020-06-29 08:15:12\", \"2020-06-28 08:14:27\"],\n",
    "                          \"name\": [\"fluffy\", \"mittens\", \"gwyneth\", \"fluffy\", \"mittens\", \"taco\"]\n",
    "                         })"
   ]
  },
  {
   "cell_type": "markdown",
   "metadata": {},
   "source": [
    "## Inner join\n",
    "\n",
    "There are several ways to join datasets. We will start with an inner join. An inner join merges rows two dataframes based on the `intersection` of their keys. Remember than an intersection of two sets is all items in both sets."
   ]
  },
  {
   "cell_type": "code",
   "execution_count": 10,
   "metadata": {},
   "outputs": [],
   "source": [
    "# Find the intersection of the set of pet names in guests and the set of pet names feedings\n",
    "\n",
    "guest_names = set() # fill this variable\n",
    "feedings_names = set() # fill this variable\n",
    "intersection = None # fill this variable"
   ]
  },
  {
   "cell_type": "markdown",
   "metadata": {},
   "source": [
    "#### Code an inner join \n",
    "Merge the guests and feedings data frames on the `name` keys using an inner join. There is some starter code included below to help you out. Your job is to modify the code.\n",
    "You might need to consult the [documentation](https://pandas.pydata.org/pandas-docs/stable/reference/api/pandas.DataFrame.merge.html).\n"
   ]
  },
  {
   "cell_type": "code",
   "execution_count": 3,
   "metadata": {},
   "outputs": [],
   "source": [
    "guests_feedings_inner = pd.merge(None, None, how=\"inner\", on=None)"
   ]
  },
  {
   "cell_type": "markdown",
   "metadata": {},
   "source": [
    "#### Questions \n",
    "\n",
    "Take a look at `guests_feedings_inner`. \n",
    "\n",
    "1. Can you use this table to figure out when Sir John was fed most recently? Why or why not? How does this relate to what you found out about the intersection of the keys from these two data frames above?\n",
    "\n",
    "[Type your answer here]"
   ]
  },
  {
   "cell_type": "markdown",
   "metadata": {},
   "source": [
    "2. What would happen if you used the following line of code (see below) to figure out the average weight of cats and dogs at the pet hotel? Would your conclusions be sound?\n",
    "\n",
    "[Type your answer here]"
   ]
  },
  {
   "cell_type": "code",
   "execution_count": 4,
   "metadata": {},
   "outputs": [],
   "source": [
    "guests_feedings_inner.groupby(\"species\")[\"weight(lb)\"].mean()"
   ]
  },
  {
   "cell_type": "markdown",
   "metadata": {},
   "source": [
    "## Outer join\n",
    "\n",
    "#### Code an outer join \n",
    "Merge the guests and feedings data frames on `name` using an `outer` join. An outer join will merge dataframes based on the union of their keys. There is some starter code included below to help you out. Your job is to modify the code.\n",
    "You might need to consult the [documentation](https://pandas.pydata.org/pandas-docs/stable/reference/api/pandas.DataFrame.merge.html)."
   ]
  },
  {
   "cell_type": "code",
   "execution_count": 6,
   "metadata": {},
   "outputs": [],
   "source": [
    "guests_feedings_inner = pd.merge(None, None, how=\"outer\", on=None)"
   ]
  },
  {
   "cell_type": "markdown",
   "metadata": {},
   "source": [
    "Take a look at `guests_feedings_outer`. \n",
    "\n",
    "1. Why is sir john included in the table this time? \n",
    "\n",
    "[Your answer here]\n",
    "\n",
    "2. Why is there a NaN for sir john in the date field?\n",
    "\n",
    "[Your answer here]\n",
    "\n",
    "3. What should you conclude about the last time Sir John was fed at the pet hotel? How should you fill the NaN, if at all?\n",
    "\n",
    "[Your answer here]"
   ]
  },
  {
   "cell_type": "markdown",
   "metadata": {},
   "source": [
    "## The big question! \n",
    "\n",
    "The main takeaway from this is you need to be careful when joining data. Make sure you understand *what* pandas (or anther library) is doing and *why*. Run small tests and investigate output to double check that you are right. And make sure you think through how the behavior from the library will affect your conclusions. \n"
   ]
  },
  {
   "cell_type": "markdown",
   "metadata": {},
   "source": [
    "## Take home: right join and left join\n",
    "\n",
    "After class, try to build on what you have learned so far and investigate right join and left join using the [pandas](https://pandas.pydata.org/pandas-docs/stable/reference/api/pandas.DataFrame.merge.html) documentation. You might need to also read about [LEFT JOIN and RIGHT JOIN in SQL](https://www.w3schools.com/sql/sql_join_left.asp) for additional context.\n",
    "\n",
    "1. What happens when you perform a left join on these tables. What is included and excluded and why? \n",
    "\n",
    "2. What happens when you perform a right join on these tables. What is included and excluded and why? \n"
   ]
  },
  {
   "cell_type": "code",
   "execution_count": null,
   "metadata": {},
   "outputs": [],
   "source": []
  }
 ],
 "metadata": {
  "kernelspec": {
   "display_name": "Python 3",
   "language": "python",
   "name": "python3"
  },
  "language_info": {
   "codemirror_mode": {
    "name": "ipython",
    "version": 3
   },
   "file_extension": ".py",
   "mimetype": "text/x-python",
   "name": "python",
   "nbconvert_exporter": "python",
   "pygments_lexer": "ipython3",
   "version": "3.8.11"
  }
 },
 "nbformat": 4,
 "nbformat_minor": 4
}
