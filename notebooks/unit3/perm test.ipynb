{
 "cells": [
  {
   "cell_type": "code",
   "execution_count": 75,
   "id": "44f927cf",
   "metadata": {},
   "outputs": [
    {
     "name": "stderr",
     "output_type": "stream",
     "text": [
      "100%|█| 1000/1000 [00:00<00:00, 37936"
     ]
    },
    {
     "name": "stdout",
     "output_type": "stream",
     "text": [
      "the probability of seeing a test stat of 2.0 or higher is 0.663\n"
     ]
    },
    {
     "name": "stderr",
     "output_type": "stream",
     "text": [
      "\n"
     ]
    }
   ],
   "source": [
    "from random import shuffle\n",
    "\n",
    "def test_statistic_diff_means(X, Y):\n",
    "    '''\n",
    "    A statistic is a function from data\n",
    "    \n",
    "    This statistic computes the absolute difference of the means\n",
    "    i.e. \\vert \\bar{X} - \\bar{Y} \\vert\n",
    "    '''\n",
    "    return 42\n",
    "\n",
    "\n",
    "def split_into_groups(data, K=2):\n",
    "    '''\n",
    "    Split the data into the X and Y groups\n",
    "    \n",
    "    The first K should be X and the remainder should by Y\n",
    "    '''\n",
    "    return 10\n",
    "\n",
    "def permute_split_compute(data, K, f=test_statistic_diff_means):\n",
    "    '''\n",
    "    Perform three operations\n",
    "    1. Randomly permute the data (i.e. shuffle the order)\n",
    "    2. Split it into groups\n",
    "    3. Compute the test statistic\n",
    "    '''\n",
    "    pass\n",
    "\n",
    "\n",
    "def permutation_test(trials, data, observed_statistic, K):\n",
    "    '''\n",
    "    Run a permutation test where you run N trials\n",
    "    on observed data D and observe how often the \n",
    "    test statistic on the permuted data is greater \n",
    "    than the observed statistic. This gets you a \n",
    "    p-value, the probability of observing the test \n",
    "    statistic (or higher) under the null distribution\n",
    "    '''\n",
    "    c = 0\n",
    "\n",
    "    p = 0\n",
    "    print(\"the probability of seeing a test stat of {} or higher is {}\".format(observed_statistic, p))\n",
    "\n",
    "data = [1, 9, 3]\n",
    "x,y = split_into_groups(data, K=2)\n",
    "diff = test_statistic_diff_means(x,y)\n",
    "permutation_test(trials=1000, data=data, observed_statistic=diff, K=2)\n"
   ]
  },
  {
   "cell_type": "markdown",
   "id": "e57917ea",
   "metadata": {},
   "source": [
    "### Questions\n",
    "\n",
    "1. What happens if you modify the test statistic?\n",
    "2. What would happen if you ran the permutation test on the Bertrand and Mullainathan data's callback variable? What about the education variable?"
   ]
  }
 ],
 "metadata": {
  "kernelspec": {
   "display_name": "Python 3 (ipykernel)",
   "language": "python",
   "name": "python3"
  },
  "language_info": {
   "codemirror_mode": {
    "name": "ipython",
    "version": 3
   },
   "file_extension": ".py",
   "mimetype": "text/x-python",
   "name": "python",
   "nbconvert_exporter": "python",
   "pygments_lexer": "ipython3",
   "version": "3.8.3"
  }
 },
 "nbformat": 4,
 "nbformat_minor": 5
}
