{
 "cells": [
  {
   "cell_type": "markdown",
   "id": "aa1bb20d",
   "metadata": {},
   "source": [
    "### Hypothesis testing on Bertrand and Mullainathan data\n",
    "\n",
    "In the past, we looked into bootstrap hypothesis testing, to check if $F=G$. Now we will use this method to check if white resumes get more callbacks than black resumes, at a rate which would be unlikely by chance."
   ]
  },
  {
   "cell_type": "markdown",
   "id": "20fdbf1e",
   "metadata": {},
   "source": [
    "Start off by reading in the data"
   ]
  },
  {
   "cell_type": "code",
   "execution_count": 4,
   "id": "526de141",
   "metadata": {},
   "outputs": [],
   "source": [
    "import pandas as pd \n",
    "df = pd.read_stata(\"lakisha_aer.dta\")"
   ]
  },
  {
   "cell_type": "markdown",
   "id": "50c137d9",
   "metadata": {},
   "source": [
    "Warmup: make a smaller data frame using the `race` and `call` variables. These fields store the race of the resume, along with an indicator showing if the resume received a callback."
   ]
  },
  {
   "cell_type": "markdown",
   "id": "a65f8070",
   "metadata": {},
   "source": [
    "Use pandas to make one list of all call variables for white resumes, and one list of call variables for black resumes. `white_call` and `black_call` should each be a list of integers."
   ]
  },
  {
   "cell_type": "code",
   "execution_count": 1,
   "id": "5aad65c1",
   "metadata": {},
   "outputs": [],
   "source": [
    "white_call = None\n",
    "black_call = None"
   ]
  },
  {
   "cell_type": "markdown",
   "id": "22f9cf15",
   "metadata": {},
   "source": [
    "- Make a histogram of white callbacks, and black callbacks. Show the histograms side-by-side\n",
    "- Be sure to use the appropriate number of [bins](https://stackoverflow.com/questions/54918651/controlling-bin-widths-in-altair)"
   ]
  },
  {
   "cell_type": "code",
   "execution_count": 2,
   "id": "a9826dbf",
   "metadata": {},
   "outputs": [],
   "source": [
    "import altair as alt\n"
   ]
  },
  {
   "cell_type": "markdown",
   "id": "1c626e90",
   "metadata": {},
   "source": [
    "Eyeballing the histograms, does it seem like the distributions are different? Does the difference look big or small? Does it could have arisen by chance?\n",
    "\n",
    "[Your answer here]"
   ]
  },
  {
   "cell_type": "markdown",
   "id": "d68e3511",
   "metadata": {},
   "source": [
    "## Testing a hypothesis\n",
    "\n",
    "Use the bootstrap hypothesis testing code to check if the distributions in callback rates are different. \n",
    "- Note: I have adjusted the code a little bit to make it run faster for this example.\n",
    "- Note: You will need around 10,000 samples to get a non-zero p-value!"
   ]
  },
  {
   "cell_type": "code",
   "execution_count": 3,
   "id": "ebadb915",
   "metadata": {},
   "outputs": [],
   "source": [
    "from tqdm import tqdm_notebook as tqdm \n",
    "import numpy as np\n",
    "from random import shuffle\n",
    "\n",
    "def bootstrap_hypothesis_testing(x, N, M, test_stat_function, T_obs, B=100):\n",
    "    '''\n",
    "    Implement bootsrap hypothesis testing by computing B samples and returning a p-value\n",
    "    \n",
    "    inputs:\n",
    "        x [list]: a sample from F\n",
    "        N [int]: the number of samples in the original treatment group\n",
    "        M [int]: the number of samples in the original control group\n",
    "        B [int]: the number of batches to sample\n",
    "    '''\n",
    "    c = 0\n",
    "    df = pd.DataFrame({\"data\": x})\n",
    "    for b in tqdm(range(B), total=B): # a cool thing to learn, not essential\n",
    "        sample = df.sample(replace=True, n = N + M)\n",
    "        zstar = sample[\"data\"][0:N].to_list()\n",
    "        ystar = sample[\"data\"][N:].to_list()\n",
    "        T = test_stat_function(ystar, zstar)\n",
    "        if T >= T_obs:\n",
    "            c += 1\n",
    "    p = c/B\n",
    "    return p\n",
    "\n",
    "def TS(x, y):\n",
    "    return np.mean(x) - np.mean(y)"
   ]
  },
  {
   "cell_type": "markdown",
   "id": "96d14024",
   "metadata": {},
   "source": [
    "## Interpret your results \n",
    "\n",
    "What p-value did you compute? How would you interpret this p-value? \n",
    "\n",
    "[Your answer here]"
   ]
  },
  {
   "cell_type": "code",
   "execution_count": null,
   "id": "3ebf79eb",
   "metadata": {},
   "outputs": [],
   "source": []
  }
 ],
 "metadata": {
  "kernelspec": {
   "display_name": "Python 3 (ipykernel)",
   "language": "python",
   "name": "python3"
  },
  "language_info": {
   "codemirror_mode": {
    "name": "ipython",
    "version": 3
   },
   "file_extension": ".py",
   "mimetype": "text/x-python",
   "name": "python",
   "nbconvert_exporter": "python",
   "pygments_lexer": "ipython3",
   "version": "3.8.3"
  }
 },
 "nbformat": 4,
 "nbformat_minor": 5
}
