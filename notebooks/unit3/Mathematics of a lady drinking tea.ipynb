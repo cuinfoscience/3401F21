{
 "cells": [
  {
   "cell_type": "code",
   "execution_count": 12,
   "id": "b89f5d69",
   "metadata": {},
   "outputs": [
    {
     "data": {
      "text/plain": [
       "0.014"
      ]
     },
     "execution_count": 12,
     "metadata": {},
     "output_type": "execute_result"
    }
   ],
   "source": [
    "from random import shuffle \n",
    "\n",
    "\n",
    "def pick4atrandom(observations, K):\n",
    "    '''implement a method that picks K options at random from a list of observations'''\n",
    "    pass\n",
    "\n",
    "\n",
    "def simulatedFishersExactTest(N, observations):\n",
    "    '''\n",
    "    Run a randomized/simulated version of Fisher's exact test\n",
    "    If you pick four items from eight at random, how probable is it that you\n",
    "    will find the four \"good\" items?\n",
    "    \n",
    "    Note: if you pick a large N, you should get a similar answer as \n",
    "    when you compute things analytically\n",
    "    '''\n",
    "\n",
    "    all_correct = 0 # count how many times you are all correct by guessing, in N trials\n",
    "\n",
    "    for i in range(N):\n",
    "        picks = pick4atrandom(observations, 4)\n",
    "        # check if all of the picks are correct\n",
    "        # if so, increment all_correct\n",
    " \n",
    "    # Return the fraction of times you are correct, in N trials. \n",
    "    # You should get similar numbers as when you compute things analytically\n",
    "    return 42\n",
    "\n",
    "observations = ['real', 'real', 'real', 'real', 'fake', 'fake', 'fake', 'fake']\n",
    "\n",
    "simulatedFishersExactTest(N=1000, observations=observations)"
   ]
  },
  {
   "cell_type": "markdown",
   "id": "3dda6cc5",
   "metadata": {},
   "source": [
    "### Checking code code\n",
    "\n",
    "The analytical calculations below can help you check your code"
   ]
  },
  {
   "cell_type": "code",
   "execution_count": 14,
   "id": "ab9ee01d",
   "metadata": {},
   "outputs": [
    {
     "data": {
      "text/plain": [
       "0.014285714285714285"
      ]
     },
     "execution_count": 14,
     "metadata": {},
     "output_type": "execute_result"
    }
   ],
   "source": [
    "ways_to_pick_4 = (8 * 7 * 6 * 5)\n",
    "ways_to_arrange_picks = (4 * 3 * 2 * 1)\n",
    "\n",
    "1/(ways_to_pick_4/ways_to_arrange_picks)"
   ]
  },
  {
   "cell_type": "code",
   "execution_count": null,
   "id": "47a901d5",
   "metadata": {},
   "outputs": [],
   "source": []
  }
 ],
 "metadata": {
  "kernelspec": {
   "display_name": "Python 3 (ipykernel)",
   "language": "python",
   "name": "python3"
  },
  "language_info": {
   "codemirror_mode": {
    "name": "ipython",
    "version": 3
   },
   "file_extension": ".py",
   "mimetype": "text/x-python",
   "name": "python",
   "nbconvert_exporter": "python",
   "pygments_lexer": "ipython3",
   "version": "3.8.3"
  }
 },
 "nbformat": 4,
 "nbformat_minor": 5
}
