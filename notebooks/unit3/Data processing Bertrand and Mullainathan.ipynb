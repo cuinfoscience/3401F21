{
 "cells": [
  {
   "cell_type": "markdown",
   "id": "754f0701",
   "metadata": {},
   "source": [
    "### Download the data \n",
    "\n",
    "Collect the data from the researchers by following [this](https://www-aeaweb-org.colorado.idm.oclc.org/articles?id=10.1257/0002828042002561) link. Download the data and move it to the directory where you are using your notebook."
   ]
  },
  {
   "cell_type": "code",
   "execution_count": null,
   "id": "95ff282c",
   "metadata": {},
   "outputs": [],
   "source": []
  },
  {
   "cell_type": "markdown",
   "id": "8b256c0b",
   "metadata": {},
   "source": [
    "### Research the data \n",
    "\n",
    "- This data comes from a dta file. When you do real data analysis, you often will run into strange file formats. Take a few minutes to research .dta files. How do you open them? What tools might be helpful for reading this in? Can you get the data into a tool like pandas? "
   ]
  },
  {
   "cell_type": "code",
   "execution_count": 9,
   "id": "3b4c94f5",
   "metadata": {},
   "outputs": [],
   "source": []
  },
  {
   "cell_type": "markdown",
   "id": "546dbd18",
   "metadata": {},
   "source": [
    "### Examine the data \n",
    "\n",
    "- Use your knowledge of pandas to examine the data. What fields do you see in the data? \n",
    "\n",
    "- How many rows are in the dataset? What might they represent? Do you notice anything about the number of rows?\n",
    "\n",
    "- What field do you think is the treatment variable (i.e. the thing that is randomly assigned in the experiment)?\n",
    "\n",
    "- What field do you think is the dependent variable (i.e. the thing that varies, based on the treatment)? "
   ]
  },
  {
   "cell_type": "code",
   "execution_count": null,
   "id": "54e51fae",
   "metadata": {},
   "outputs": [],
   "source": []
  },
  {
   "cell_type": "code",
   "execution_count": null,
   "id": "941a4654",
   "metadata": {},
   "outputs": [],
   "source": []
  },
  {
   "cell_type": "markdown",
   "id": "fb603d52",
   "metadata": {},
   "source": [
    "### Check for balance\n",
    "\n",
    "If some resumes in the white or black group have more computer skills or years experience, then those variables might explain differences in call back rates. Do the authors do a good job balancing between these potentially \"confounding\" variables? Check for balance across years of experience by race by examining the mean. Then check for balance across computer skills by race. These instructions are deliberately a little vague. What pandas do you know that might help with this?"
   ]
  },
  {
   "cell_type": "code",
   "execution_count": null,
   "id": "48ad107e",
   "metadata": {},
   "outputs": [],
   "source": []
  },
  {
   "cell_type": "code",
   "execution_count": null,
   "id": "5e1ea242",
   "metadata": {},
   "outputs": [],
   "source": []
  },
  {
   "cell_type": "markdown",
   "id": "32eabdf0",
   "metadata": {},
   "source": [
    "### Developing intuitions about distributions \n",
    "\n",
    "Looking at differences in means is a good start. But it does not tell you anything about differences in **distributions** of the datasets. Make a [faceted histogram](https://altair-viz.github.io/gallery/layered_histogram.html) of years experience, by race. You will need to manipulate data in pandas to do this."
   ]
  },
  {
   "cell_type": "code",
   "execution_count": null,
   "id": "8c19458d",
   "metadata": {},
   "outputs": [],
   "source": []
  },
  {
   "cell_type": "code",
   "execution_count": null,
   "id": "a9331eec",
   "metadata": {},
   "outputs": [],
   "source": []
  },
  {
   "cell_type": "code",
   "execution_count": null,
   "id": "5608eb4f",
   "metadata": {},
   "outputs": [],
   "source": []
  }
 ],
 "metadata": {
  "kernelspec": {
   "display_name": "Python 3 (ipykernel)",
   "language": "python",
   "name": "python3"
  },
  "language_info": {
   "codemirror_mode": {
    "name": "ipython",
    "version": 3
   },
   "file_extension": ".py",
   "mimetype": "text/x-python",
   "name": "python",
   "nbconvert_exporter": "python",
   "pygments_lexer": "ipython3",
   "version": "3.8.3"
  }
 },
 "nbformat": 4,
 "nbformat_minor": 5
}
