{
 "cells": [
  {
   "cell_type": "markdown",
   "metadata": {},
   "source": [
    "# INFO 3401 Introduction to pandas\n",
    "\n",
    "This may review content you have learned in other classes, but we want to start with the same foundation since pandas is so fundamental to everything else we will do in this class!\n",
    "\n",
    "## Learning Objectives\n",
    "\n",
    "* Learn about the pandas `Series` class\n",
    "\n",
    "## Load libraries\n",
    "\n",
    "In this class, it will be important to make sure we are all using the same versions of the libraries. You should use the same package versions, or you might get different results!\n",
    "\n",
    "- Let's look at pandas [releases](https://github.com/pandas-dev/pandas)\n",
    "- If you research, you can find major breaking [changes to pandas](https://pandas.pydata.org/pandas-docs/version/1.0.0/whatsnew/v1.0.0.html) API in the past"
   ]
  },
  {
   "cell_type": "code",
   "execution_count": 1,
   "metadata": {},
   "outputs": [
    {
     "name": "stdout",
     "output_type": "stream",
     "text": [
      "Check versions !\n",
      "4.1.0\n",
      "1.21.0\n",
      "1.3.2\n"
     ]
    }
   ],
   "source": [
    "import pandas as pd\n",
    "import numpy as np\n",
    "import altair as alt\n",
    "\n",
    "pd.options.display.max_columns = 100\n",
    "\n",
    "print(\"Check versions !\")\n",
    "print(alt.__version__)\n",
    "print(np.__version__)\n",
    "print(pd.__version__)"
   ]
  },
  {
   "cell_type": "markdown",
   "metadata": {},
   "source": [
    "## Fundamental data types\n",
    "\n",
    "There are two fundamental data types in `pandas`: a [`DataFrame`](https://pandas.pydata.org/docs/reference/api/pandas.DataFrame.html#pandas.DataFrame) and a [`Series`](https://pandas.pydata.org/docs/reference/api/pandas.Series.html#pandas.Series). \n",
    "\n",
    "Today we will learn about `Series`.\n",
    "- A series is a collection of values\n",
    "- Each value is referenced with a name called an `index`. Indexes are optional, if you don't include an index then pandas will reference each element in an array by its position number.\n",
    "- Usually, everything in a series has the same type\n",
    "- You can think of a series as a kind of array, with extra features (including indexes)\n",
    "- Example:\n",
    "    - A series of everyone in who lives in your house (strings)\n",
    "    - A series of the age of everyone in 3401 (ints)  \n",
    "- You can also think of a series as collecting a bunch of observations of a single variable. For instance, you can think of a series as collecting observations of rolls of a die. That is a boring example from 2301 though (or your intro stats class). In 3401 the point is to take those same concepts and apply to way more interesting things, such as a series of the tax rates of every company on the S & P 500, or a series of the CO2 emissions from the manufacture of each make and model of electric car. "
   ]
  },
  {
   "cell_type": "markdown",
   "metadata": {},
   "source": [
    "#### NFL QB passing yards for 2020\n",
    "\n",
    "Here is an example of a Series "
   ]
  },
  {
   "cell_type": "code",
   "execution_count": null,
   "metadata": {},
   "outputs": [],
   "source": []
  },
  {
   "cell_type": "markdown",
   "metadata": {},
   "source": [
    "| Player     | Passing yards  |\n",
    "| ----------- | ----------- |\n",
    "| Deshaun Watson     | 4823       |\n",
    "| Patrick Mahomes   | 4740        |\n",
    "| Tom Brady   | 4633        |\n",
    "| Matt Ryan | 4581 | "
   ]
  },
  {
   "cell_type": "markdown",
   "metadata": {},
   "source": [
    "Aside: [pretty tables](https://www.markdownguide.org/extended-syntax/) in markdown. As part of your data scientist mindset in this class, you should be up for reading about markdown table syntax to modify as needed for your own projects."
   ]
  },
  {
   "cell_type": "markdown",
   "metadata": {},
   "source": [
    "We can turn this table into a Series like this"
   ]
  },
  {
   "cell_type": "code",
   "execution_count": 8,
   "metadata": {},
   "outputs": [],
   "source": [
    "yards = [4823, 4740, 4633, 4581]\n",
    "yards_series = pd.Series(first_7_letters_list)"
   ]
  },
  {
   "cell_type": "markdown",
   "metadata": {},
   "source": [
    "We can reference each cell in the series by an index, like a spreadsheet or numpy array"
   ]
  },
  {
   "cell_type": "code",
   "execution_count": 9,
   "metadata": {},
   "outputs": [
    {
     "data": {
      "text/plain": [
       "4823"
      ]
     },
     "execution_count": 9,
     "metadata": {},
     "output_type": "execute_result"
    }
   ],
   "source": [
    "yards_series[0]"
   ]
  },
  {
   "cell_type": "markdown",
   "metadata": {},
   "source": [
    "But we want to be able to refer to each element by name. For that, you use an index."
   ]
  },
  {
   "cell_type": "code",
   "execution_count": 11,
   "metadata": {},
   "outputs": [
    {
     "data": {
      "text/plain": [
       "Deshaun Watson     4823\n",
       "Patrick Mahomes    4740\n",
       "Tom Brady          4633\n",
       "Matt Ryan          4581\n",
       "dtype: int64"
      ]
     },
     "execution_count": 11,
     "metadata": {},
     "output_type": "execute_result"
    }
   ],
   "source": [
    "yards = [4823, 4740, 4633, 4581]\n",
    "index=[\"Deshaun Watson\", \"Patrick Mahomes\", \"Tom Brady\", \"Matt Ryan\"]\n",
    "yards_named = pd.Series(yards, index=index)\n",
    "yards_named"
   ]
  },
  {
   "cell_type": "code",
   "execution_count": 12,
   "metadata": {},
   "outputs": [
    {
     "data": {
      "text/plain": [
       "4581"
      ]
     },
     "execution_count": 12,
     "metadata": {},
     "output_type": "execute_result"
    }
   ],
   "source": [
    "yards_named[\"Matt Ryan\"] # much better"
   ]
  },
  {
   "cell_type": "markdown",
   "metadata": {},
   "source": [
    "Question: what is the data type of `yards_named`?\n",
    "\n",
    "[Your answer here]"
   ]
  },
  {
   "cell_type": "markdown",
   "metadata": {},
   "source": [
    "Question: make a Series called `first_three` of the first three letters of the alphabet.\n",
    "\n",
    "[Your answer here]"
   ]
  },
  {
   "cell_type": "markdown",
   "metadata": {},
   "source": [
    "#### Flexing your data science mindset!\n",
    "Recall that a uniform distribution assigns an equal probability to each outcome of an experiment. In other words, if we have a sample of possible outcomes $\\Omega$ then we will observe each outcome with probability $\\frac{1}{\\vert \\Omega \\vert}$. (Pause for \"[latex](https://en.wikipedia.org/wiki/LaTeX)\" here).\n",
    "\n",
    "For instance, rolling a fair die is a uniform distribution over the numbers 1 to 6. Flex your data scientist mindset to review the [documentation](https://numpy.org/doc/stable/reference/random/generated/numpy.random.randint.html) for the scientific computing library numpy to simulate 10 rolls of a fair die and store the results in a Pandas series. \n",
    "\n",
    "Notice that this example takes us from computational thinking to quantitative thinking and back (via hacking the docs!)"
   ]
  },
  {
   "cell_type": "markdown",
   "metadata": {},
   "source": [
    "[Your group's code here]"
   ]
  },
  {
   "cell_type": "code",
   "execution_count": null,
   "metadata": {},
   "outputs": [],
   "source": []
  }
 ],
 "metadata": {
  "kernelspec": {
   "display_name": "Python 3",
   "language": "python",
   "name": "python3"
  },
  "language_info": {
   "codemirror_mode": {
    "name": "ipython",
    "version": 3
   },
   "file_extension": ".py",
   "mimetype": "text/x-python",
   "name": "python",
   "nbconvert_exporter": "python",
   "pygments_lexer": "ipython3",
   "version": "3.8.3"
  }
 },
 "nbformat": 4,
 "nbformat_minor": 4
}
