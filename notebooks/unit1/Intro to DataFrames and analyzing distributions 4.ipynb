{
 "cells": [
  {
   "cell_type": "markdown",
   "id": "36926cbd",
   "metadata": {},
   "source": [
    "### Practice with Boolean indexing"
   ]
  },
  {
   "cell_type": "code",
   "execution_count": 1,
   "id": "d7827561",
   "metadata": {},
   "outputs": [
    {
     "data": {
      "text/html": [
       "<div>\n",
       "<style scoped>\n",
       "    .dataframe tbody tr th:only-of-type {\n",
       "        vertical-align: middle;\n",
       "    }\n",
       "\n",
       "    .dataframe tbody tr th {\n",
       "        vertical-align: top;\n",
       "    }\n",
       "\n",
       "    .dataframe thead th {\n",
       "        text-align: right;\n",
       "    }\n",
       "</style>\n",
       "<table border=\"1\" class=\"dataframe\">\n",
       "  <thead>\n",
       "    <tr style=\"text-align: right;\">\n",
       "      <th></th>\n",
       "      <th>group</th>\n",
       "      <th>covid</th>\n",
       "    </tr>\n",
       "  </thead>\n",
       "  <tbody>\n",
       "    <tr>\n",
       "      <th>0</th>\n",
       "      <td>treatment</td>\n",
       "      <td>False</td>\n",
       "    </tr>\n",
       "    <tr>\n",
       "      <th>1</th>\n",
       "      <td>control</td>\n",
       "      <td>False</td>\n",
       "    </tr>\n",
       "    <tr>\n",
       "      <th>2</th>\n",
       "      <td>treatment</td>\n",
       "      <td>False</td>\n",
       "    </tr>\n",
       "    <tr>\n",
       "      <th>3</th>\n",
       "      <td>control</td>\n",
       "      <td>False</td>\n",
       "    </tr>\n",
       "    <tr>\n",
       "      <th>4</th>\n",
       "      <td>treatment</td>\n",
       "      <td>False</td>\n",
       "    </tr>\n",
       "    <tr>\n",
       "      <th>...</th>\n",
       "      <td>...</td>\n",
       "      <td>...</td>\n",
       "    </tr>\n",
       "    <tr>\n",
       "      <th>29995</th>\n",
       "      <td>control</td>\n",
       "      <td>False</td>\n",
       "    </tr>\n",
       "    <tr>\n",
       "      <th>29996</th>\n",
       "      <td>control</td>\n",
       "      <td>False</td>\n",
       "    </tr>\n",
       "    <tr>\n",
       "      <th>29997</th>\n",
       "      <td>treatment</td>\n",
       "      <td>False</td>\n",
       "    </tr>\n",
       "    <tr>\n",
       "      <th>29998</th>\n",
       "      <td>treatment</td>\n",
       "      <td>False</td>\n",
       "    </tr>\n",
       "    <tr>\n",
       "      <th>29999</th>\n",
       "      <td>control</td>\n",
       "      <td>False</td>\n",
       "    </tr>\n",
       "  </tbody>\n",
       "</table>\n",
       "<p>30000 rows × 2 columns</p>\n",
       "</div>"
      ],
      "text/plain": [
       "           group  covid\n",
       "0      treatment  False\n",
       "1        control  False\n",
       "2      treatment  False\n",
       "3        control  False\n",
       "4      treatment  False\n",
       "...          ...    ...\n",
       "29995    control  False\n",
       "29996    control  False\n",
       "29997  treatment  False\n",
       "29998  treatment  False\n",
       "29999    control  False\n",
       "\n",
       "[30000 rows x 2 columns]"
      ]
     },
     "execution_count": 1,
     "metadata": {},
     "output_type": "execute_result"
    }
   ],
   "source": [
    "import pandas as pd \n",
    "\n",
    "df = pd.read_csv(\"clinical_trial.csv\")\n",
    "\n",
    "df"
   ]
  },
  {
   "cell_type": "markdown",
   "id": "a422b03c",
   "metadata": {},
   "source": [
    "### Use pivot tables to figure out probabilty of covid given treatment vs. control \n",
    "\n",
    "You want to figure out \n",
    "- $p(covid | treatment)$ \n",
    "- $p(covid | control)$"
   ]
  },
  {
   "cell_type": "code",
   "execution_count": null,
   "id": "9a74f7a4",
   "metadata": {},
   "outputs": [],
   "source": [
    "# [your code here]\n",
    "\n",
    "# You should make a data frame called df2 with rows for treatment and control groups, \n",
    "# along with the probability that each group will get COVID"
   ]
  },
  {
   "cell_type": "markdown",
   "id": "f88d3013",
   "metadata": {},
   "source": [
    "### Plotting\n",
    "\n",
    "Use Altair to make a bar chart showing the probability of COVID in treatment and control groups. Which group seems to have higher incidence of COVID?"
   ]
  },
  {
   "cell_type": "markdown",
   "id": "efc86002",
   "metadata": {},
   "source": [
    "### Value counts \n",
    "\n",
    "Use `value_counts` to count how many people got covid or did not get covid in the treatment and control groups. Store your results in a data frame `df3`."
   ]
  },
  {
   "cell_type": "markdown",
   "id": "e3fb2edb",
   "metadata": {},
   "source": [
    "### Plotting + Boolean indexing \n",
    "\n",
    "Use Boolean indexing to select the treatment and control groups from the DataFrame `df3`. Then make a bar plot showing the count of people who got covid vs. did not get covid in the treatment and control groups."
   ]
  },
  {
   "cell_type": "markdown",
   "id": "5817360b",
   "metadata": {},
   "source": [
    "### Preview\n",
    "\n",
    "Are these distributions actually different? What is the probability that these are draws from the same underlying distribution? "
   ]
  }
 ],
 "metadata": {
  "kernelspec": {
   "display_name": "Python 3",
   "language": "python",
   "name": "python3"
  },
  "language_info": {
   "codemirror_mode": {
    "name": "ipython",
    "version": 3
   },
   "file_extension": ".py",
   "mimetype": "text/x-python",
   "name": "python",
   "nbconvert_exporter": "python",
   "pygments_lexer": "ipython3",
   "version": "3.8.3"
  }
 },
 "nbformat": 4,
 "nbformat_minor": 5
}
