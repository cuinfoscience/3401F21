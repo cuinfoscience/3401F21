{
 "cells": [
  {
   "cell_type": "code",
   "execution_count": 1,
   "id": "c92a73d6",
   "metadata": {},
   "outputs": [
    {
     "data": {
      "text/html": [
       "<div>\n",
       "<style scoped>\n",
       "    .dataframe tbody tr th:only-of-type {\n",
       "        vertical-align: middle;\n",
       "    }\n",
       "\n",
       "    .dataframe tbody tr th {\n",
       "        vertical-align: top;\n",
       "    }\n",
       "\n",
       "    .dataframe thead th {\n",
       "        text-align: right;\n",
       "    }\n",
       "</style>\n",
       "<table border=\"1\" class=\"dataframe\">\n",
       "  <thead>\n",
       "    <tr style=\"text-align: right;\">\n",
       "      <th></th>\n",
       "      <th>group</th>\n",
       "      <th>covid</th>\n",
       "    </tr>\n",
       "  </thead>\n",
       "  <tbody>\n",
       "    <tr>\n",
       "      <th>0</th>\n",
       "      <td>treatment</td>\n",
       "      <td>False</td>\n",
       "    </tr>\n",
       "    <tr>\n",
       "      <th>1</th>\n",
       "      <td>control</td>\n",
       "      <td>False</td>\n",
       "    </tr>\n",
       "    <tr>\n",
       "      <th>2</th>\n",
       "      <td>treatment</td>\n",
       "      <td>False</td>\n",
       "    </tr>\n",
       "    <tr>\n",
       "      <th>3</th>\n",
       "      <td>control</td>\n",
       "      <td>False</td>\n",
       "    </tr>\n",
       "    <tr>\n",
       "      <th>4</th>\n",
       "      <td>treatment</td>\n",
       "      <td>False</td>\n",
       "    </tr>\n",
       "    <tr>\n",
       "      <th>...</th>\n",
       "      <td>...</td>\n",
       "      <td>...</td>\n",
       "    </tr>\n",
       "    <tr>\n",
       "      <th>29995</th>\n",
       "      <td>control</td>\n",
       "      <td>False</td>\n",
       "    </tr>\n",
       "    <tr>\n",
       "      <th>29996</th>\n",
       "      <td>control</td>\n",
       "      <td>False</td>\n",
       "    </tr>\n",
       "    <tr>\n",
       "      <th>29997</th>\n",
       "      <td>treatment</td>\n",
       "      <td>False</td>\n",
       "    </tr>\n",
       "    <tr>\n",
       "      <th>29998</th>\n",
       "      <td>treatment</td>\n",
       "      <td>False</td>\n",
       "    </tr>\n",
       "    <tr>\n",
       "      <th>29999</th>\n",
       "      <td>control</td>\n",
       "      <td>False</td>\n",
       "    </tr>\n",
       "  </tbody>\n",
       "</table>\n",
       "<p>30000 rows × 2 columns</p>\n",
       "</div>"
      ],
      "text/plain": [
       "           group  covid\n",
       "0      treatment  False\n",
       "1        control  False\n",
       "2      treatment  False\n",
       "3        control  False\n",
       "4      treatment  False\n",
       "...          ...    ...\n",
       "29995    control  False\n",
       "29996    control  False\n",
       "29997  treatment  False\n",
       "29998  treatment  False\n",
       "29999    control  False\n",
       "\n",
       "[30000 rows x 2 columns]"
      ]
     },
     "execution_count": 1,
     "metadata": {},
     "output_type": "execute_result"
    }
   ],
   "source": [
    "import pandas as pd \n",
    "\n",
    "df = pd.read_csv(\"clinical_trial.csv\")\n",
    "\n",
    "df"
   ]
  },
  {
   "cell_type": "markdown",
   "id": "08cb11aa",
   "metadata": {},
   "source": [
    "### Counting items in a group\n",
    "\n",
    "- Pandas offers many ways to count items in a Series or DataFrame.\n",
    "- One straightforward method is to call [value counts](https://pandas.pydata.org/pandas-docs/dev/reference/api/pandas.Series.value_counts.html) on a Series object. "
   ]
  },
  {
   "cell_type": "markdown",
   "id": "96b95237",
   "metadata": {},
   "source": [
    "1. Use the `value_counts` method to count how many patients got covid in our dataset"
   ]
  },
  {
   "cell_type": "code",
   "execution_count": 4,
   "id": "673381ac",
   "metadata": {},
   "outputs": [],
   "source": [
    "# Your code here"
   ]
  },
  {
   "cell_type": "markdown",
   "id": "31ba6a1c",
   "metadata": {},
   "source": [
    "2. What happens if you call `value_counts` on the whole data frame instead of the series object?"
   ]
  },
  {
   "cell_type": "code",
   "execution_count": null,
   "id": "63637b0a",
   "metadata": {},
   "outputs": [],
   "source": [
    "# Your code here"
   ]
  },
  {
   "cell_type": "markdown",
   "id": "c9f26e5b",
   "metadata": {},
   "source": [
    "### Sorting \n",
    "\n",
    "- It is also possible to sort a series to show high values at the start and low values at the bottom.\n",
    "- You can do this by calling the `sort_values` method on a Series\n",
    "- Using the cell below, use the `.sort_values` method to show the series `simple_demo` in sorted order"
   ]
  },
  {
   "cell_type": "code",
   "execution_count": 98,
   "id": "d13f91bd",
   "metadata": {},
   "outputs": [
    {
     "data": {
      "text/plain": [
       "1    0.3\n",
       "2    0.5\n",
       "3    0.7\n",
       "0    0.9\n",
       "dtype: float64"
      ]
     },
     "execution_count": 98,
     "metadata": {},
     "output_type": "execute_result"
    }
   ],
   "source": [
    "simple_demo = pd.Series([.9, .3, .5, .7])\n",
    "# your code here"
   ]
  },
  {
   "cell_type": "markdown",
   "id": "8fb65046",
   "metadata": {},
   "source": [
    "- The previous example shows how to sort a series. But often you will be working with data frames instead of series. Here again you can use the `sort_values` method."
   ]
  },
  {
   "cell_type": "code",
   "execution_count": 100,
   "id": "38cca1a4",
   "metadata": {},
   "outputs": [
    {
     "data": {
      "text/html": [
       "<div>\n",
       "<style scoped>\n",
       "    .dataframe tbody tr th:only-of-type {\n",
       "        vertical-align: middle;\n",
       "    }\n",
       "\n",
       "    .dataframe tbody tr th {\n",
       "        vertical-align: top;\n",
       "    }\n",
       "\n",
       "    .dataframe thead th {\n",
       "        text-align: right;\n",
       "    }\n",
       "</style>\n",
       "<table border=\"1\" class=\"dataframe\">\n",
       "  <thead>\n",
       "    <tr style=\"text-align: right;\">\n",
       "      <th></th>\n",
       "      <th>x</th>\n",
       "      <th>y</th>\n",
       "    </tr>\n",
       "  </thead>\n",
       "  <tbody>\n",
       "    <tr>\n",
       "      <th>0</th>\n",
       "      <td>102</td>\n",
       "      <td>71</td>\n",
       "    </tr>\n",
       "    <tr>\n",
       "      <th>1</th>\n",
       "      <td>435</td>\n",
       "      <td>700</td>\n",
       "    </tr>\n",
       "    <tr>\n",
       "      <th>2</th>\n",
       "      <td>860</td>\n",
       "      <td>20</td>\n",
       "    </tr>\n",
       "    <tr>\n",
       "      <th>3</th>\n",
       "      <td>270</td>\n",
       "      <td>614</td>\n",
       "    </tr>\n",
       "    <tr>\n",
       "      <th>4</th>\n",
       "      <td>106</td>\n",
       "      <td>121</td>\n",
       "    </tr>\n",
       "  </tbody>\n",
       "</table>\n",
       "</div>"
      ],
      "text/plain": [
       "     x    y\n",
       "0  102   71\n",
       "1  435  700\n",
       "2  860   20\n",
       "3  270  614\n",
       "4  106  121"
      ]
     },
     "execution_count": 100,
     "metadata": {},
     "output_type": "execute_result"
    }
   ],
   "source": [
    "import numpy as np\n",
    "np.random.seed(42)\n",
    "x = np.random.randint(1000, size=5)\n",
    "y = np.random.randint(1000, size=5)\n",
    "df = pd.DataFrame({\"x\": list(x), \"y\": list(y)})\n",
    "df = df.astype({\"x\": int, \"y\": int})\n",
    "df"
   ]
  },
  {
   "cell_type": "markdown",
   "id": "2289633b",
   "metadata": {},
   "source": [
    "- Sort the above DataFrame by the `x` and `y` series\n",
    "- You should consult the [docs](https://pandas.pydata.org/docs/reference/api/pandas.DataFrame.sort_values.html) for guidance on how to do this. Again, using documentation is a **crucial** skill for working with data computationally."
   ]
  },
  {
   "cell_type": "code",
   "execution_count": null,
   "id": "8de3fdf1",
   "metadata": {},
   "outputs": [],
   "source": [
    "# Your code here"
   ]
  },
  {
   "cell_type": "markdown",
   "id": "eefa21d9",
   "metadata": {},
   "source": [
    "#### Check in\n",
    "\n",
    "In your code above, you may have used a \"by\" parameter to sort a DataFrame.  Why do you think you need to pass a \"by\" parameter when sorting a DataFrame but not a Series? \n",
    "\n",
    "[your answer here]"
   ]
  },
  {
   "cell_type": "markdown",
   "id": "f92a334a",
   "metadata": {},
   "source": [
    "#### Check in\n",
    "\n",
    "Sometimes you need to sort to see the lowest values. Other times you need to sort to see the highest values. Using the pandas documentation for guidance, sort the DataFrame from the previous cells so that higher numbers for the column `y` come first."
   ]
  },
  {
   "cell_type": "code",
   "execution_count": null,
   "id": "974f543b",
   "metadata": {},
   "outputs": [],
   "source": [
    "# Your code here"
   ]
  },
  {
   "cell_type": "markdown",
   "id": "ed582d1a",
   "metadata": {},
   "source": [
    "#### Check in \n",
    "\n",
    "Remember that both Series and DataFrame objects in pandas have indexes. With that said, what do you think is happening in the next cell? If you call index after calling `sort_values` what do you think it shows?"
   ]
  },
  {
   "cell_type": "code",
   "execution_count": 107,
   "id": "0f9d3eaa",
   "metadata": {},
   "outputs": [
    {
     "data": {
      "text/plain": [
       "Int64Index([2, 0, 4, 3, 1], dtype='int64')"
      ]
     },
     "execution_count": 107,
     "metadata": {},
     "output_type": "execute_result"
    }
   ],
   "source": [
    "df.sort_values(by=\"y\").index"
   ]
  },
  {
   "cell_type": "markdown",
   "id": "788fd659",
   "metadata": {},
   "source": [
    "### Pivot tables \n",
    "\n",
    "- A pivot table offers a way to summarize data in a dataset\n",
    "- The basic idea of a pivot table is to present summary statistics about subsets of your data.\n",
    "- To compute those summary statistics you use an \"aggregation function\", or \"agg function\"\n",
    "- Let's start with a very simple pivot table and build up intuition for this concept."
   ]
  },
  {
   "cell_type": "code",
   "execution_count": 129,
   "id": "ecfaa1dd",
   "metadata": {},
   "outputs": [],
   "source": [
    "df = pd.DataFrame({\"income\": [100, 53, 40, 254, 53], \n",
    "                   \"city\": [\"Denver\", \"Boulder\", \"Denver\", \"Boulder\", \"Boulder\"],\n",
    "                   \"gender\": [\"F\", \"M\", \"M\", \"F\", \"F\"]})"
   ]
  },
  {
   "cell_type": "markdown",
   "id": "232ef240",
   "metadata": {},
   "source": [
    "- All pivot tables must have an index, which organizes the data into groups.\n",
    "- The index is the key you use to group the items in a pivot table\n",
    "- What is happening in the cell below?"
   ]
  },
  {
   "cell_type": "code",
   "execution_count": 130,
   "id": "e49237fd",
   "metadata": {},
   "outputs": [
    {
     "data": {
      "text/html": [
       "<div>\n",
       "<style scoped>\n",
       "    .dataframe tbody tr th:only-of-type {\n",
       "        vertical-align: middle;\n",
       "    }\n",
       "\n",
       "    .dataframe tbody tr th {\n",
       "        vertical-align: top;\n",
       "    }\n",
       "\n",
       "    .dataframe thead th {\n",
       "        text-align: right;\n",
       "    }\n",
       "</style>\n",
       "<table border=\"1\" class=\"dataframe\">\n",
       "  <thead>\n",
       "    <tr style=\"text-align: right;\">\n",
       "      <th></th>\n",
       "      <th>income</th>\n",
       "    </tr>\n",
       "    <tr>\n",
       "      <th>city</th>\n",
       "      <th></th>\n",
       "    </tr>\n",
       "  </thead>\n",
       "  <tbody>\n",
       "    <tr>\n",
       "      <th>Boulder</th>\n",
       "      <td>120</td>\n",
       "    </tr>\n",
       "    <tr>\n",
       "      <th>Denver</th>\n",
       "      <td>70</td>\n",
       "    </tr>\n",
       "  </tbody>\n",
       "</table>\n",
       "</div>"
      ],
      "text/plain": [
       "         income\n",
       "city           \n",
       "Boulder     120\n",
       "Denver       70"
      ]
     },
     "execution_count": 130,
     "metadata": {},
     "output_type": "execute_result"
    }
   ],
   "source": [
    "df.pivot_table(index='city')"
   ]
  },
  {
   "cell_type": "markdown",
   "id": "a4c43994",
   "metadata": {},
   "source": [
    "It is possible to group by multiple indexes. What is happening in the cell below?"
   ]
  },
  {
   "cell_type": "code",
   "execution_count": 131,
   "id": "8552d369",
   "metadata": {},
   "outputs": [
    {
     "data": {
      "text/html": [
       "<div>\n",
       "<style scoped>\n",
       "    .dataframe tbody tr th:only-of-type {\n",
       "        vertical-align: middle;\n",
       "    }\n",
       "\n",
       "    .dataframe tbody tr th {\n",
       "        vertical-align: top;\n",
       "    }\n",
       "\n",
       "    .dataframe thead th {\n",
       "        text-align: right;\n",
       "    }\n",
       "</style>\n",
       "<table border=\"1\" class=\"dataframe\">\n",
       "  <thead>\n",
       "    <tr style=\"text-align: right;\">\n",
       "      <th></th>\n",
       "      <th></th>\n",
       "      <th>income</th>\n",
       "    </tr>\n",
       "    <tr>\n",
       "      <th>city</th>\n",
       "      <th>gender</th>\n",
       "      <th></th>\n",
       "    </tr>\n",
       "  </thead>\n",
       "  <tbody>\n",
       "    <tr>\n",
       "      <th rowspan=\"2\" valign=\"top\">Boulder</th>\n",
       "      <th>F</th>\n",
       "      <td>153.5</td>\n",
       "    </tr>\n",
       "    <tr>\n",
       "      <th>M</th>\n",
       "      <td>53.0</td>\n",
       "    </tr>\n",
       "    <tr>\n",
       "      <th rowspan=\"2\" valign=\"top\">Denver</th>\n",
       "      <th>F</th>\n",
       "      <td>100.0</td>\n",
       "    </tr>\n",
       "    <tr>\n",
       "      <th>M</th>\n",
       "      <td>40.0</td>\n",
       "    </tr>\n",
       "  </tbody>\n",
       "</table>\n",
       "</div>"
      ],
      "text/plain": [
       "                income\n",
       "city    gender        \n",
       "Boulder F        153.5\n",
       "        M         53.0\n",
       "Denver  F        100.0\n",
       "        M         40.0"
      ]
     },
     "execution_count": 131,
     "metadata": {},
     "output_type": "execute_result"
    }
   ],
   "source": [
    "df.pivot_table(index=['city', 'gender'])"
   ]
  },
  {
   "cell_type": "markdown",
   "id": "df62e02d",
   "metadata": {},
   "source": [
    "- How is the data in the above tables aggregated? \n",
    "- It is possible to change the way scores in groups are aggregated\n",
    "- What are other kinds of summary statistics? Think back to earlier INFO classes."
   ]
  },
  {
   "cell_type": "markdown",
   "id": "f1ad33c6",
   "metadata": {},
   "source": [
    "- What is happening in the code below?\n",
    "\n",
    "[your answer here]"
   ]
  },
  {
   "cell_type": "code",
   "execution_count": 132,
   "id": "c963c04a",
   "metadata": {},
   "outputs": [
    {
     "data": {
      "text/html": [
       "<div>\n",
       "<style scoped>\n",
       "    .dataframe tbody tr th:only-of-type {\n",
       "        vertical-align: middle;\n",
       "    }\n",
       "\n",
       "    .dataframe tbody tr th {\n",
       "        vertical-align: top;\n",
       "    }\n",
       "\n",
       "    .dataframe thead th {\n",
       "        text-align: right;\n",
       "    }\n",
       "</style>\n",
       "<table border=\"1\" class=\"dataframe\">\n",
       "  <thead>\n",
       "    <tr style=\"text-align: right;\">\n",
       "      <th></th>\n",
       "      <th></th>\n",
       "      <th>income</th>\n",
       "    </tr>\n",
       "    <tr>\n",
       "      <th>city</th>\n",
       "      <th>gender</th>\n",
       "      <th></th>\n",
       "    </tr>\n",
       "  </thead>\n",
       "  <tbody>\n",
       "    <tr>\n",
       "      <th rowspan=\"2\" valign=\"top\">Boulder</th>\n",
       "      <th>F</th>\n",
       "      <td>254</td>\n",
       "    </tr>\n",
       "    <tr>\n",
       "      <th>M</th>\n",
       "      <td>53</td>\n",
       "    </tr>\n",
       "    <tr>\n",
       "      <th rowspan=\"2\" valign=\"top\">Denver</th>\n",
       "      <th>F</th>\n",
       "      <td>100</td>\n",
       "    </tr>\n",
       "    <tr>\n",
       "      <th>M</th>\n",
       "      <td>40</td>\n",
       "    </tr>\n",
       "  </tbody>\n",
       "</table>\n",
       "</div>"
      ],
      "text/plain": [
       "                income\n",
       "city    gender        \n",
       "Boulder F          254\n",
       "        M           53\n",
       "Denver  F          100\n",
       "        M           40"
      ]
     },
     "execution_count": 132,
     "metadata": {},
     "output_type": "execute_result"
    }
   ],
   "source": [
    "df.pivot_table(index=['city', 'gender'], aggfunc=np.max)"
   ]
  }
 ],
 "metadata": {
  "kernelspec": {
   "display_name": "Python 3",
   "language": "python",
   "name": "python3"
  },
  "language_info": {
   "codemirror_mode": {
    "name": "ipython",
    "version": 3
   },
   "file_extension": ".py",
   "mimetype": "text/x-python",
   "name": "python",
   "nbconvert_exporter": "python",
   "pygments_lexer": "ipython3",
   "version": "3.8.3"
  }
 },
 "nbformat": 4,
 "nbformat_minor": 5
}
