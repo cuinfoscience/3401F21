{
 "cells": [
  {
   "cell_type": "markdown",
   "id": "9546cc88",
   "metadata": {},
   "source": [
    "### From Series to DataFrames, Boolean indexing and analyzing distributions \n",
    "\n",
    "#### Via the Pfizer COVID clinical trial"
   ]
  },
  {
   "cell_type": "markdown",
   "id": "b1f756a6",
   "metadata": {},
   "source": [
    "In the next series of notebooks, we will consider if the Pfizer COVID vaccine actually reduces your risk of getting COVID, and by how much. Does the Pfizer vaccine actually work? How certain are we that it works? How do scientists make these kinds of decisions? As an information scientist, you don't have to just trust what your uncle says on Facebook (TikTok)? By the end of 2301 you will be ba able to actually reason through these things yourself. \n",
    "\n",
    "To answer, we will need to learn the following: \n",
    "- the pandas DataFrame\n",
    "- Boolean indexing\n",
    "- Grouping data\n",
    "- analyzing distributions (at least to start)"
   ]
  },
  {
   "cell_type": "code",
   "execution_count": null,
   "id": "6e7d60c1",
   "metadata": {},
   "outputs": [],
   "source": [
    "### Warm up \n",
    "\n",
    "How do you think scientists know the COVID vaccine works?\n",
    "\n",
    "[Your thoughts here]"
   ]
  },
  {
   "cell_type": "markdown",
   "id": "d2256607",
   "metadata": {},
   "source": [
    "Patient-level data from the Pfizer [clinical trial](https://www.pfizer.com/research/clinical_trials/trial_data_and_results/data_requests/) is available to researchers. But it is presented to the public in summary form. So for our purposes, I simulated data from the trial based on [aggregate data](https://www.fda.gov/media/144246/download) from Pfizer."
   ]
  },
  {
   "cell_type": "markdown",
   "id": "41912753",
   "metadata": {},
   "source": [
    "- I am going to show you how I simulated the data after we are done.\n",
    "- In general, you don't get to see the real data generating process. That is a mystery from nature that you can't actually observe. But you *can* make inferences about the data generating process, based on the observed data.\n",
    "- Let's go ahead and get started by reading in the simulated data with a pandas data frame."
   ]
  },
  {
   "cell_type": "code",
   "execution_count": 31,
   "id": "3cad2729",
   "metadata": {},
   "outputs": [
    {
     "data": {
      "text/html": [
       "<div>\n",
       "<style scoped>\n",
       "    .dataframe tbody tr th:only-of-type {\n",
       "        vertical-align: middle;\n",
       "    }\n",
       "\n",
       "    .dataframe tbody tr th {\n",
       "        vertical-align: top;\n",
       "    }\n",
       "\n",
       "    .dataframe thead th {\n",
       "        text-align: right;\n",
       "    }\n",
       "</style>\n",
       "<table border=\"1\" class=\"dataframe\">\n",
       "  <thead>\n",
       "    <tr style=\"text-align: right;\">\n",
       "      <th></th>\n",
       "      <th>group</th>\n",
       "      <th>covid</th>\n",
       "    </tr>\n",
       "  </thead>\n",
       "  <tbody>\n",
       "    <tr>\n",
       "      <th>0</th>\n",
       "      <td>treatment</td>\n",
       "      <td>False</td>\n",
       "    </tr>\n",
       "    <tr>\n",
       "      <th>1</th>\n",
       "      <td>control</td>\n",
       "      <td>False</td>\n",
       "    </tr>\n",
       "    <tr>\n",
       "      <th>2</th>\n",
       "      <td>treatment</td>\n",
       "      <td>False</td>\n",
       "    </tr>\n",
       "    <tr>\n",
       "      <th>3</th>\n",
       "      <td>control</td>\n",
       "      <td>False</td>\n",
       "    </tr>\n",
       "    <tr>\n",
       "      <th>4</th>\n",
       "      <td>treatment</td>\n",
       "      <td>False</td>\n",
       "    </tr>\n",
       "    <tr>\n",
       "      <th>...</th>\n",
       "      <td>...</td>\n",
       "      <td>...</td>\n",
       "    </tr>\n",
       "    <tr>\n",
       "      <th>29995</th>\n",
       "      <td>control</td>\n",
       "      <td>False</td>\n",
       "    </tr>\n",
       "    <tr>\n",
       "      <th>29996</th>\n",
       "      <td>control</td>\n",
       "      <td>False</td>\n",
       "    </tr>\n",
       "    <tr>\n",
       "      <th>29997</th>\n",
       "      <td>treatment</td>\n",
       "      <td>False</td>\n",
       "    </tr>\n",
       "    <tr>\n",
       "      <th>29998</th>\n",
       "      <td>treatment</td>\n",
       "      <td>False</td>\n",
       "    </tr>\n",
       "    <tr>\n",
       "      <th>29999</th>\n",
       "      <td>control</td>\n",
       "      <td>False</td>\n",
       "    </tr>\n",
       "  </tbody>\n",
       "</table>\n",
       "<p>30000 rows × 2 columns</p>\n",
       "</div>"
      ],
      "text/plain": [
       "           group  covid\n",
       "0      treatment  False\n",
       "1        control  False\n",
       "2      treatment  False\n",
       "3        control  False\n",
       "4      treatment  False\n",
       "...          ...    ...\n",
       "29995    control  False\n",
       "29996    control  False\n",
       "29997  treatment  False\n",
       "29998  treatment  False\n",
       "29999    control  False\n",
       "\n",
       "[30000 rows x 2 columns]"
      ]
     },
     "execution_count": 31,
     "metadata": {},
     "output_type": "execute_result"
    }
   ],
   "source": [
    "import pandas as pd \n",
    "\n",
    "df = pd.read_csv(\"clinical_trial.csv\")\n",
    "\n",
    "df"
   ]
  },
  {
   "cell_type": "markdown",
   "id": "af22b8e4",
   "metadata": {},
   "source": [
    "### Check in\n",
    "\n",
    "Why does the DataFrame show a \"...\" in the middle?\n",
    "\n",
    "[Your answer here]"
   ]
  },
  {
   "cell_type": "markdown",
   "id": "1002474f",
   "metadata": {},
   "source": [
    "### Check in\n",
    "\n",
    "Based on this data frame, do you think the COVID vaccine works? \n",
    "\n",
    "What steps would you take to figure that out using this data? (Even if you don't know the commands yet in pandas.)\n",
    "\n",
    "[Your thoughts here]"
   ]
  },
  {
   "cell_type": "markdown",
   "id": "7bb27b7b",
   "metadata": {},
   "source": [
    "### A strategy for answering"
   ]
  },
  {
   "cell_type": "markdown",
   "id": "af9b277c",
   "metadata": {},
   "source": [
    "To answer these questions about the COVID vaccine, we will need to use the Pandas API and quantitative reasoning! \n",
    "\n",
    "**The point of this class is not software. Software is a means to quantitative and computational analysis**\n",
    "\n",
    "### What is a data frame? \n",
    "\n",
    "- A Series is a 1D collection of observations\n",
    "- A DataFrame is a 2D collection of observations. You can think of it as a generalization or extension of a series\n",
    "\n",
    "#### Indexes \n",
    "\n",
    "- Like a series, a DataFrame has an index. \n",
    "- Where a Series has indexes into individual obserations (i.e. names each obserbation), in a DataFrame the index labels each row number.\n",
    "- If you hear \"index\" for a DataFrame, think rows.\n",
    "\n",
    "#### Column names\n",
    "\n",
    "- Additionally, because a DataFrame is 2D, a DataFrame has columns.\n",
    "    - The column names are \"indexes\" along the second dimension of a DataFrame. But in the Pandas way of thinking, they are separate (use different syntax)."
   ]
  },
  {
   "cell_type": "code",
   "execution_count": null,
   "id": "8be39676",
   "metadata": {},
   "outputs": [],
   "source": [
    "### Check in\n",
    "\n",
    "- What are the column names of `df` above?\n",
    "- What is the index? \n",
    "\n",
    "Print these things out programmatically using code!"
   ]
  },
  {
   "cell_type": "markdown",
   "id": "4c670090",
   "metadata": {},
   "source": [
    "[Your code here]"
   ]
  },
  {
   "cell_type": "markdown",
   "id": "ae137a27",
   "metadata": {},
   "source": [
    "### Creating a DataFrame\n",
    "\n",
    "There are lots of ways to make a DataFrame. Often in this class we will read them in from files using the `read_csv` method. But there are lots of other ways. Review the [documentaion](https://pandas.pydata.org/pandas-docs/dev/reference/api/pandas.read_csv.html) to investigate a few more."
   ]
  },
  {
   "cell_type": "markdown",
   "id": "ad2618f7",
   "metadata": {},
   "source": [
    "[What are some ways to create a DataFrame?]"
   ]
  },
  {
   "cell_type": "markdown",
   "id": "21570c5c",
   "metadata": {},
   "source": [
    "### Getting to know your data \n",
    "\n",
    "Pandas has a number of methods for getting to know your data. Experiment with each of the following methods using the `df` data frame and try to figure out what they do"
   ]
  },
  {
   "cell_type": "code",
   "execution_count": null,
   "id": "b5a2ac05",
   "metadata": {},
   "outputs": [],
   "source": [
    "### Getting to know your data \n",
    "\n",
    "- `df.head()`\n",
    "- `df.sample(5)`\n",
    "- `len(df)`\n",
    "- `len(df.colums)`\n",
    "- `df.dtypes`"
   ]
  }
 ],
 "metadata": {
  "kernelspec": {
   "display_name": "Python 3",
   "language": "python",
   "name": "python3"
  },
  "language_info": {
   "codemirror_mode": {
    "name": "ipython",
    "version": 3
   },
   "file_extension": ".py",
   "mimetype": "text/x-python",
   "name": "python",
   "nbconvert_exporter": "python",
   "pygments_lexer": "ipython3",
   "version": "3.8.11"
  }
 },
 "nbformat": 4,
 "nbformat_minor": 5
}
