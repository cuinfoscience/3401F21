{
 "cells": [
  {
   "cell_type": "markdown",
   "id": "36926cbd",
   "metadata": {},
   "source": [
    "### Analyzing distributions\n",
    "\n",
    "- So far, we have made bar charts showing the relative rates of COVID in the vaccinated (treatment) and unvaccinated (control) group.\n",
    "\n",
    "- It seems like the treatment group is far less likely to get COVID. \n",
    "\n",
    "- But how can we be sure? Can we make a mathematical argument that these groups are different? \n",
    "\n",
    "We will explore this question throughout this semester. But today we will build some intution for this question."
   ]
  },
  {
   "cell_type": "code",
   "execution_count": null,
   "id": "23bc5af6",
   "metadata": {},
   "outputs": [],
   "source": [
    "### Let's start by reviewing code from last time"
   ]
  },
  {
   "cell_type": "code",
   "execution_count": 6,
   "id": "d7827561",
   "metadata": {},
   "outputs": [
    {
     "data": {
      "text/html": [
       "\n",
       "<div id=\"altair-viz-beeb5b7058994be19d2f036796e83b2c\"></div>\n",
       "<script type=\"text/javascript\">\n",
       "  (function(spec, embedOpt){\n",
       "    let outputDiv = document.currentScript.previousElementSibling;\n",
       "    if (outputDiv.id !== \"altair-viz-beeb5b7058994be19d2f036796e83b2c\") {\n",
       "      outputDiv = document.getElementById(\"altair-viz-beeb5b7058994be19d2f036796e83b2c\");\n",
       "    }\n",
       "    const paths = {\n",
       "      \"vega\": \"https://cdn.jsdelivr.net/npm//vega@5?noext\",\n",
       "      \"vega-lib\": \"https://cdn.jsdelivr.net/npm//vega-lib?noext\",\n",
       "      \"vega-lite\": \"https://cdn.jsdelivr.net/npm//vega-lite@4.8.1?noext\",\n",
       "      \"vega-embed\": \"https://cdn.jsdelivr.net/npm//vega-embed@6?noext\",\n",
       "    };\n",
       "\n",
       "    function loadScript(lib) {\n",
       "      return new Promise(function(resolve, reject) {\n",
       "        var s = document.createElement('script');\n",
       "        s.src = paths[lib];\n",
       "        s.async = true;\n",
       "        s.onload = () => resolve(paths[lib]);\n",
       "        s.onerror = () => reject(`Error loading script: ${paths[lib]}`);\n",
       "        document.getElementsByTagName(\"head\")[0].appendChild(s);\n",
       "      });\n",
       "    }\n",
       "\n",
       "    function showError(err) {\n",
       "      outputDiv.innerHTML = `<div class=\"error\" style=\"color:red;\">${err}</div>`;\n",
       "      throw err;\n",
       "    }\n",
       "\n",
       "    function displayChart(vegaEmbed) {\n",
       "      vegaEmbed(outputDiv, spec, embedOpt)\n",
       "        .catch(err => showError(`Javascript Error: ${err.message}<br>This usually means there's a typo in your chart specification. See the javascript console for the full traceback.`));\n",
       "    }\n",
       "\n",
       "    if(typeof define === \"function\" && define.amd) {\n",
       "      requirejs.config({paths});\n",
       "      require([\"vega-embed\"], displayChart, err => showError(`Error loading script: ${err.message}`));\n",
       "    } else if (typeof vegaEmbed === \"function\") {\n",
       "      displayChart(vegaEmbed);\n",
       "    } else {\n",
       "      loadScript(\"vega\")\n",
       "        .then(() => loadScript(\"vega-lite\"))\n",
       "        .then(() => loadScript(\"vega-embed\"))\n",
       "        .catch(showError)\n",
       "        .then(() => displayChart(vegaEmbed));\n",
       "    }\n",
       "  })({\"config\": {\"view\": {\"continuousWidth\": 400, \"continuousHeight\": 300}}, \"hconcat\": [{\"data\": {\"name\": \"data-353d5ae6e4502cb65e617f6287f657f3\"}, \"mark\": \"bar\", \"encoding\": {\"x\": {\"type\": \"nominal\", \"field\": \"covid\"}, \"y\": {\"type\": \"quantitative\", \"field\": \"count\"}}}, {\"data\": {\"name\": \"data-7f4763aab0a0dc26b8d972d73fe60855\"}, \"mark\": \"bar\", \"encoding\": {\"x\": {\"type\": \"nominal\", \"field\": \"covid\"}, \"y\": {\"type\": \"quantitative\", \"field\": \"count\"}}}], \"$schema\": \"https://vega.github.io/schema/vega-lite/v4.8.1.json\", \"datasets\": {\"data-353d5ae6e4502cb65e617f6287f657f3\": [{\"group\": \"treatment\", \"covid\": false, \"count\": 14750}, {\"group\": \"treatment\", \"covid\": true, \"count\": 235}], \"data-7f4763aab0a0dc26b8d972d73fe60855\": [{\"group\": \"control\", \"covid\": false, \"count\": 12751}, {\"group\": \"control\", \"covid\": true, \"count\": 2264}]}}, {\"mode\": \"vega-lite\"});\n",
       "</script>"
      ],
      "text/plain": [
       "alt.HConcatChart(...)"
      ]
     },
     "execution_count": 6,
     "metadata": {},
     "output_type": "execute_result"
    }
   ],
   "source": [
    "import pandas as pd \n",
    "import altair as alt\n",
    "\n",
    "df3 = pd.DataFrame(df.value_counts()).reset_index()\n",
    "df3 = df3.rename(columns = {0: \"count\"})\n",
    "\n",
    "treat = df3[df3[\"group\"] == \"treatment\"]\n",
    "control = df3[df3[\"group\"] == \"control\"] \n",
    "\n",
    "treat_chart = alt.Chart(treat).mark_bar().encode(\n",
    "    x='covid',\n",
    "    y='count'\n",
    ")\n",
    "\n",
    "control_chart = alt.Chart(control).mark_bar().encode(\n",
    "    x='covid',\n",
    "    y='count'\n",
    ")\n",
    "\n",
    "treat_chart | control_chart"
   ]
  },
  {
   "cell_type": "markdown",
   "id": "3f229978",
   "metadata": {},
   "source": [
    "One way to explore if the distributions are actually different is to examine what these plots would look like if the data were drawn from different distributions."
   ]
  },
  {
   "cell_type": "code",
   "execution_count": null,
   "id": "456454cb",
   "metadata": {},
   "outputs": [],
   "source": [
    "def sample(p_covid, N):\n",
    "    '''\n",
    "    Return a binary vector of length N where a 1 indicates the person got COVID \n",
    "    \n",
    "    Each person should be randomly assigned to get COVID with probability p_covid\n",
    "    '''\n",
    "    return np.random.choice([0, 1], N, p=[1-p_covid, p_covid])\n",
    "    \n",
    "def make_data_frame(p_covid_treat, p_covid_control, totalN):\n",
    "    '''\n",
    "    Make a data frame like df3 with columns group, covid and count indicating the counts \n",
    "    of covid in the treatment and control groups. \n",
    "    \n",
    "    You should assign the counts at random based on the p_covid_treat, p_covid_control\n",
    "    and totalN parameters. \n",
    "    \n",
    "    Note that N should be totalN/2\n",
    "    \n",
    "    You will have to use your sample function for this\n",
    "    '''\n",
    "    \n",
    "    # sample from the treatment and control groups\n",
    "    treatment = sample(p_covid_treat, int(totalN/2))\n",
    "    control = sample(p_covid_control, int(totalN/2))\n",
    "\n",
    "    # count up how many people get/don't get covid in the control group\n",
    "    N_covid_control = np.sum(control) # np.sum([0, 1, 0, 0, 1, 1]) = 3\n",
    "    N_no_covid_control = control.size - N_covid_control\n",
    "\n",
    "    # count up how many people get/don't get covid in the treatment group\n",
    "    N_covid_treatment = np.sum(treatment)  # np.sum([0, 1, 0, 1, 1, 1]) = 4\n",
    "    N_no_covid_treatment = treatment.size - N_covid_treatment\n",
    "    \n",
    "    group = [\"treatment\", \"treatment\", \"control\", \"control\"]\n",
    "    covid = [True, False, True, False]\n",
    "    count = [N_covid_treatment, N_no_covid_treatment, N_covid_control, N_no_covid_control]\n",
    "    return pd.DataFrame({\"group\": group, \"count\": count, \"covid\": covid})\n",
    "\n",
    "\n",
    "def make_plot(df):\n",
    "    '''\n",
    "    Write a function to make a plot that shows the number of patients \n",
    "    who did and did not get covid in the treatment adn control groups\n",
    "    \n",
    "    You can assume the dataframe comes from make_data_frame\n",
    "    '''\n",
    "    treat = df[df[\"group\"] == \"treatment\"]\n",
    "    control = df[df[\"group\"] == \"control\"] \n",
    "    \n",
    "    treat_chart = alt.Chart(treat).mark_bar().encode(\n",
    "    x='covid',\n",
    "    y='count'\n",
    "    ).properties(title=\"treatment\")\n",
    "\n",
    "    control_chart = alt.Chart(control).mark_bar().encode(\n",
    "        x='covid',\n",
    "        y='count'\n",
    "    ).properties(title=\"control\")\n",
    "\n",
    "    return treat_chart | control_chart\n",
    "\n",
    "df = make_data_frame(p_covid_treat=.01, p_covid_control=.2, totalN=50)\n",
    "\n",
    "make_plot(df)"
   ]
  },
  {
   "cell_type": "markdown",
   "id": "2eec7fe7",
   "metadata": {},
   "source": [
    "1. Add comments to the lines of code above to explain what each line is doing. Print out an HTML version of your notebook and turn it to Canvas."
   ]
  },
  {
   "cell_type": "code",
   "execution_count": null,
   "id": "e10d93fa",
   "metadata": {},
   "outputs": [],
   "source": [
    "2. Make 5 plots with `totalN`=100, p_covid_treat=.02, p_covid_control=.10"
   ]
  },
  {
   "cell_type": "markdown",
   "id": "fdcb9192",
   "metadata": {},
   "source": [
    "[Your code here]"
   ]
  },
  {
   "cell_type": "code",
   "execution_count": null,
   "id": "f66fed98",
   "metadata": {},
   "outputs": [],
   "source": [
    "3. What do you observe? Do the plots look the same each time? "
   ]
  },
  {
   "cell_type": "code",
   "execution_count": null,
   "id": "64a3ee6e",
   "metadata": {},
   "outputs": [],
   "source": [
    "[Your answer here]"
   ]
  },
  {
   "cell_type": "markdown",
   "id": "39932b97",
   "metadata": {},
   "source": [
    "4. Make 5 plots with `totalN`=1000 (10x more), with `p_covid_treat`=.02 and `p_covid_control`=.10\n",
    "What do you observe? Do the plots look more similar than when N is 100? Why might that be the case?"
   ]
  },
  {
   "cell_type": "code",
   "execution_count": null,
   "id": "4b78e99d",
   "metadata": {},
   "outputs": [],
   "source": [
    "[Your answer here]"
   ]
  },
  {
   "cell_type": "markdown",
   "id": "98f3b20f",
   "metadata": {},
   "source": [
    "5. Make 5 plots with `totalN`=1000, `p_covid_treat`=.02, `p_covid_control`=.15 Notice that the difference between the probability parameters is bigger this time. How would observing such an outcome affect your confidence in the efficacy of the vaccine?"
   ]
  },
  {
   "cell_type": "code",
   "execution_count": null,
   "id": "f5c6e469",
   "metadata": {},
   "outputs": [],
   "source": [
    "[Your answer here]"
   ]
  },
  {
   "cell_type": "markdown",
   "id": "80bb6a7c",
   "metadata": {},
   "source": [
    "6. Make 5 plots with `totalN`=100000, p_covid_treat=.02, p_covid_control=.04 \n",
    "The difference between the probability of getting COVID is very small. But do your plots give you confidence that the vaccine lowers the probability of getting COVID? "
   ]
  },
  {
   "cell_type": "markdown",
   "id": "4a9f523c",
   "metadata": {},
   "source": [
    "[Your answer here]"
   ]
  },
  {
   "cell_type": "code",
   "execution_count": null,
   "id": "6619d488",
   "metadata": {},
   "outputs": [],
   "source": [
    "7. What do you think would happen if you repeated the above experiment with `totalN`=10?"
   ]
  },
  {
   "cell_type": "markdown",
   "id": "6dce3e95",
   "metadata": {},
   "source": [
    "8. Can you state any general conclusions about the size of your dataset, the similarity of your plots and the difference between $p(covid | treatment)$ and $p(covid | control)$?"
   ]
  },
  {
   "cell_type": "code",
   "execution_count": null,
   "id": "400f1f26",
   "metadata": {},
   "outputs": [],
   "source": []
  }
 ],
 "metadata": {
  "kernelspec": {
   "display_name": "Python 3",
   "language": "python",
   "name": "python3"
  },
  "language_info": {
   "codemirror_mode": {
    "name": "ipython",
    "version": 3
   },
   "file_extension": ".py",
   "mimetype": "text/x-python",
   "name": "python",
   "nbconvert_exporter": "python",
   "pygments_lexer": "ipython3",
   "version": "3.8.3"
  }
 },
 "nbformat": 4,
 "nbformat_minor": 5
}
