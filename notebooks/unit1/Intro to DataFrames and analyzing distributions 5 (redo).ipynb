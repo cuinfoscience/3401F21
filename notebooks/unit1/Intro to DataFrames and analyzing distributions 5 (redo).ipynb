{
 "cells": [
  {
   "cell_type": "markdown",
   "id": "36926cbd",
   "metadata": {},
   "source": [
    "### Concepts \n",
    "\n",
    "- Small multiples\n",
    "\n",
    "- Visual communication \n",
    "\n",
    "- Adding columns/'features' to data frame\n",
    "\n",
    "- Effect size \n",
    "\n",
    "- Sample size"
   ]
  },
  {
   "cell_type": "code",
   "execution_count": 1,
   "id": "d7827561",
   "metadata": {},
   "outputs": [],
   "source": [
    "import pandas as pd \n",
    "import altair as alt\n",
    "\n",
    "df = pd.read_csv(\"clinical_trial.csv\")\n",
    "\n",
    "df3 = pd.DataFrame(df.value_counts()).reset_index()\n",
    "df3 = df3.rename(columns = {0: \"count\"})"
   ]
  },
  {
   "cell_type": "markdown",
   "id": "3f229978",
   "metadata": {},
   "source": [
    "One way to explore if the distributions are actually different is to examine what these plots would look like if the data were drawn from different distributions."
   ]
  },
  {
   "cell_type": "code",
   "execution_count": 83,
   "id": "456454cb",
   "metadata": {},
   "outputs": [],
   "source": [
    "import numpy as np\n",
    "\n",
    "def sample(p_covid, N):\n",
    "    '''\n",
    "    Return a binary vector of length N where a 1 indicates the person got COVID \n",
    "    \n",
    "    Each person should be randomly assigned to get COVID with probability p_covid\n",
    "    '''\n",
    "    return np.random.choice([0, 1], N, p=[1-p_covid, p_covid])\n",
    "    \n",
    "def make_data_frame(p_covid_treat, p_covid_control, totalN):\n",
    "    '''\n",
    "    Make a data frame like df3 with columns group, covid and count indicating the counts \n",
    "    of covid in the treatment and control groups. \n",
    "    \n",
    "    You should assign the counts at random based on the p_covid_treat, p_covid_control\n",
    "    and totalN parameters. \n",
    "    \n",
    "    Note that N should be totalN/2\n",
    "    \n",
    "    You will have to use your sample function for this\n",
    "    '''\n",
    "    \n",
    "    # sample from the treatment and control groups\n",
    "    treatment = sample(p_covid_treat, int(totalN/2))\n",
    "    control = sample(p_covid_control, int(totalN/2))\n",
    "\n",
    "    # count up how many people get/don't get covid in the control group\n",
    "    N_covid_control = np.sum(control) # np.sum([0, 1, 0, 0, 1, 1]) = 3\n",
    "    N_no_covid_control = control.size - N_covid_control\n",
    "\n",
    "    # count up how many people get/don't get covid in the treatment group\n",
    "    N_covid_treatment = np.sum(treatment)  # np.sum([0, 1, 0, 1, 1, 1]) = 4\n",
    "    N_no_covid_treatment = treatment.size - N_covid_treatment\n",
    "    \n",
    "    group = [\"treatment\", \"treatment\", \"control\", \"control\"]\n",
    "    covid = [True, False, True, False]\n",
    "    count = [N_covid_treatment, N_no_covid_treatment, N_covid_control, N_no_covid_control]\n",
    "    return pd.DataFrame({\"group\": group, \"count\": count, \"covid\": covid})\n",
    "\n",
    "def make_plot(df):\n",
    "    '''\n",
    "    Write a function to make a plot that shows the number of patients \n",
    "    who did and did not get covid in the treatment adn control groups\n",
    "    \n",
    "    You can assume the dataframe comes from make_data_frame\n",
    "    '''\n",
    "    treat = df[df[\"group\"] == \"treatment\"]\n",
    "    control = df[df[\"group\"] == \"control\"] \n",
    "    \n",
    "    treat_chart = alt.Chart(treat).mark_bar().encode(\n",
    "    x='covid',\n",
    "    y='count'\n",
    "    ).properties(title=\"treatment\")\n",
    "\n",
    "    control_chart = alt.Chart(control).mark_bar().encode(\n",
    "        x='covid',\n",
    "        y='count'\n",
    "    ).properties(title=\"control\")\n",
    "\n",
    "    return treat_chart | control_chart\n",
    "\n",
    "def make_plot_2(df):\n",
    "    '''\n",
    "    Write a function to make a plot that shows the number of patients \n",
    "    who did and did not get covid in the treatment adn control groups\n",
    "    \n",
    "    You can assume the dataframe comes from make_data_frame\n",
    "    '''\n",
    "    plot2 = df[df[\"covid\"] == True][[\"group\", \"count\"]]\n",
    "    \n",
    "    max_ = max(plot2[\"count\"])\n",
    "    plot2[\"is_max\"] = plot2[\"count\"] == max_\n",
    "    \n",
    "    _chart = alt.Chart(plot2).mark_bar().encode(\n",
    "        x='group',\n",
    "        y='count',\n",
    "        color=\"is_max\",\n",
    "        tooltip=\"count\"\n",
    "    ).properties(title=\"# covid\", width=20, height=50)\n",
    "    return _chart"
   ]
  },
  {
   "cell_type": "code",
   "execution_count": 88,
   "id": "3e7240fa",
   "metadata": {},
   "outputs": [
    {
     "data": {
      "text/html": [
       "\n",
       "<div id=\"altair-viz-9031c99172294a75af31cf0d499c8a15\"></div>\n",
       "<script type=\"text/javascript\">\n",
       "  (function(spec, embedOpt){\n",
       "    let outputDiv = document.currentScript.previousElementSibling;\n",
       "    if (outputDiv.id !== \"altair-viz-9031c99172294a75af31cf0d499c8a15\") {\n",
       "      outputDiv = document.getElementById(\"altair-viz-9031c99172294a75af31cf0d499c8a15\");\n",
       "    }\n",
       "    const paths = {\n",
       "      \"vega\": \"https://cdn.jsdelivr.net/npm//vega@5?noext\",\n",
       "      \"vega-lib\": \"https://cdn.jsdelivr.net/npm//vega-lib?noext\",\n",
       "      \"vega-lite\": \"https://cdn.jsdelivr.net/npm//vega-lite@4.8.1?noext\",\n",
       "      \"vega-embed\": \"https://cdn.jsdelivr.net/npm//vega-embed@6?noext\",\n",
       "    };\n",
       "\n",
       "    function loadScript(lib) {\n",
       "      return new Promise(function(resolve, reject) {\n",
       "        var s = document.createElement('script');\n",
       "        s.src = paths[lib];\n",
       "        s.async = true;\n",
       "        s.onload = () => resolve(paths[lib]);\n",
       "        s.onerror = () => reject(`Error loading script: ${paths[lib]}`);\n",
       "        document.getElementsByTagName(\"head\")[0].appendChild(s);\n",
       "      });\n",
       "    }\n",
       "\n",
       "    function showError(err) {\n",
       "      outputDiv.innerHTML = `<div class=\"error\" style=\"color:red;\">${err}</div>`;\n",
       "      throw err;\n",
       "    }\n",
       "\n",
       "    function displayChart(vegaEmbed) {\n",
       "      vegaEmbed(outputDiv, spec, embedOpt)\n",
       "        .catch(err => showError(`Javascript Error: ${err.message}<br>This usually means there's a typo in your chart specification. See the javascript console for the full traceback.`));\n",
       "    }\n",
       "\n",
       "    if(typeof define === \"function\" && define.amd) {\n",
       "      requirejs.config({paths});\n",
       "      require([\"vega-embed\"], displayChart, err => showError(`Error loading script: ${err.message}`));\n",
       "    } else if (typeof vegaEmbed === \"function\") {\n",
       "      displayChart(vegaEmbed);\n",
       "    } else {\n",
       "      loadScript(\"vega\")\n",
       "        .then(() => loadScript(\"vega-lite\"))\n",
       "        .then(() => loadScript(\"vega-embed\"))\n",
       "        .catch(showError)\n",
       "        .then(() => displayChart(vegaEmbed));\n",
       "    }\n",
       "  })({\"config\": {\"view\": {\"continuousWidth\": 400, \"continuousHeight\": 300}}, \"hconcat\": [{\"data\": {\"name\": \"data-55165883fa11d5edf39e413b938a0017\"}, \"mark\": \"bar\", \"encoding\": {\"color\": {\"type\": \"nominal\", \"field\": \"is_max\"}, \"tooltip\": {\"type\": \"quantitative\", \"field\": \"count\"}, \"x\": {\"type\": \"nominal\", \"field\": \"group\"}, \"y\": {\"type\": \"quantitative\", \"field\": \"count\"}}, \"height\": 50, \"title\": \"# covid\", \"width\": 20}, {\"data\": {\"name\": \"data-73fd833a9d5f48ef024027b28fe5d68e\"}, \"mark\": \"bar\", \"encoding\": {\"color\": {\"type\": \"nominal\", \"field\": \"is_max\"}, \"tooltip\": {\"type\": \"quantitative\", \"field\": \"count\"}, \"x\": {\"type\": \"nominal\", \"field\": \"group\"}, \"y\": {\"type\": \"quantitative\", \"field\": \"count\"}}, \"height\": 50, \"title\": \"# covid\", \"width\": 20}, {\"data\": {\"name\": \"data-f9a11ee8fb38333ed41dec2edd7c0092\"}, \"mark\": \"bar\", \"encoding\": {\"color\": {\"type\": \"nominal\", \"field\": \"is_max\"}, \"tooltip\": {\"type\": \"quantitative\", \"field\": \"count\"}, \"x\": {\"type\": \"nominal\", \"field\": \"group\"}, \"y\": {\"type\": \"quantitative\", \"field\": \"count\"}}, \"height\": 50, \"title\": \"# covid\", \"width\": 20}, {\"data\": {\"name\": \"data-6e4bdd4b8a52f95e03e8af7dc7ce9dc8\"}, \"mark\": \"bar\", \"encoding\": {\"color\": {\"type\": \"nominal\", \"field\": \"is_max\"}, \"tooltip\": {\"type\": \"quantitative\", \"field\": \"count\"}, \"x\": {\"type\": \"nominal\", \"field\": \"group\"}, \"y\": {\"type\": \"quantitative\", \"field\": \"count\"}}, \"height\": 50, \"title\": \"# covid\", \"width\": 20}, {\"data\": {\"name\": \"data-28f5ff1ca51cd22a8b6d97f819d82b0f\"}, \"mark\": \"bar\", \"encoding\": {\"color\": {\"type\": \"nominal\", \"field\": \"is_max\"}, \"tooltip\": {\"type\": \"quantitative\", \"field\": \"count\"}, \"x\": {\"type\": \"nominal\", \"field\": \"group\"}, \"y\": {\"type\": \"quantitative\", \"field\": \"count\"}}, \"height\": 50, \"title\": \"# covid\", \"width\": 20}, {\"data\": {\"name\": \"data-acd53e659a5646553174ea6ccc82a7f9\"}, \"mark\": \"bar\", \"encoding\": {\"color\": {\"type\": \"nominal\", \"field\": \"is_max\"}, \"tooltip\": {\"type\": \"quantitative\", \"field\": \"count\"}, \"x\": {\"type\": \"nominal\", \"field\": \"group\"}, \"y\": {\"type\": \"quantitative\", \"field\": \"count\"}}, \"height\": 50, \"title\": \"# covid\", \"width\": 20}, {\"data\": {\"name\": \"data-7fde0400266761676db34095ac61b1d9\"}, \"mark\": \"bar\", \"encoding\": {\"color\": {\"type\": \"nominal\", \"field\": \"is_max\"}, \"tooltip\": {\"type\": \"quantitative\", \"field\": \"count\"}, \"x\": {\"type\": \"nominal\", \"field\": \"group\"}, \"y\": {\"type\": \"quantitative\", \"field\": \"count\"}}, \"height\": 50, \"title\": \"# covid\", \"width\": 20}, {\"data\": {\"name\": \"data-4fec252c6b8016b96835014218597512\"}, \"mark\": \"bar\", \"encoding\": {\"color\": {\"type\": \"nominal\", \"field\": \"is_max\"}, \"tooltip\": {\"type\": \"quantitative\", \"field\": \"count\"}, \"x\": {\"type\": \"nominal\", \"field\": \"group\"}, \"y\": {\"type\": \"quantitative\", \"field\": \"count\"}}, \"height\": 50, \"title\": \"# covid\", \"width\": 20}], \"$schema\": \"https://vega.github.io/schema/vega-lite/v4.8.1.json\", \"datasets\": {\"data-55165883fa11d5edf39e413b938a0017\": [{\"group\": \"treatment\", \"count\": 6, \"is_max\": true}, {\"group\": \"control\", \"count\": 4, \"is_max\": false}], \"data-73fd833a9d5f48ef024027b28fe5d68e\": [{\"group\": \"treatment\", \"count\": 6, \"is_max\": true}, {\"group\": \"control\", \"count\": 2, \"is_max\": false}], \"data-f9a11ee8fb38333ed41dec2edd7c0092\": [{\"group\": \"treatment\", \"count\": 3, \"is_max\": false}, {\"group\": \"control\", \"count\": 4, \"is_max\": true}], \"data-6e4bdd4b8a52f95e03e8af7dc7ce9dc8\": [{\"group\": \"treatment\", \"count\": 7, \"is_max\": true}, {\"group\": \"control\", \"count\": 5, \"is_max\": false}], \"data-28f5ff1ca51cd22a8b6d97f819d82b0f\": [{\"group\": \"treatment\", \"count\": 9, \"is_max\": true}, {\"group\": \"control\", \"count\": 7, \"is_max\": false}], \"data-acd53e659a5646553174ea6ccc82a7f9\": [{\"group\": \"treatment\", \"count\": 4, \"is_max\": false}, {\"group\": \"control\", \"count\": 5, \"is_max\": true}], \"data-7fde0400266761676db34095ac61b1d9\": [{\"group\": \"treatment\", \"count\": 5, \"is_max\": false}, {\"group\": \"control\", \"count\": 9, \"is_max\": true}], \"data-4fec252c6b8016b96835014218597512\": [{\"group\": \"treatment\", \"count\": 6, \"is_max\": false}, {\"group\": \"control\", \"count\": 13, \"is_max\": true}]}}, {\"mode\": \"vega-lite\"});\n",
       "</script>"
      ],
      "text/plain": [
       "alt.HConcatChart(...)"
      ]
     },
     "execution_count": 88,
     "metadata": {},
     "output_type": "execute_result"
    }
   ],
   "source": [
    "all_ = []\n",
    "\n",
    "for j in range(8):\n",
    "    df1 = make_data_frame(p_covid_treat=.1, p_covid_control=.11, totalN=100)\n",
    "    plot1 = make_plot_2(df1)\n",
    "    all_.append(plot1)\n",
    "\n",
    "alt.hconcat(*all_)"
   ]
  },
  {
   "cell_type": "markdown",
   "id": "b5c92634",
   "metadata": {},
   "source": [
    "- What does orange mean in the plots above?"
   ]
  },
  {
   "cell_type": "markdown",
   "id": "7d520bdd",
   "metadata": {},
   "source": [
    "[your answer here]"
   ]
  },
  {
   "cell_type": "markdown",
   "id": "b18797f8",
   "metadata": {},
   "source": [
    "- What do you notice about which plots are orange?"
   ]
  },
  {
   "cell_type": "markdown",
   "id": "7607f039",
   "metadata": {},
   "source": [
    "[your answer here]"
   ]
  },
  {
   "cell_type": "code",
   "execution_count": 94,
   "id": "699634b1",
   "metadata": {},
   "outputs": [
    {
     "data": {
      "text/html": [
       "\n",
       "<div id=\"altair-viz-2f677f16f4dd432c8b1596d0d6f6ccbb\"></div>\n",
       "<script type=\"text/javascript\">\n",
       "  (function(spec, embedOpt){\n",
       "    let outputDiv = document.currentScript.previousElementSibling;\n",
       "    if (outputDiv.id !== \"altair-viz-2f677f16f4dd432c8b1596d0d6f6ccbb\") {\n",
       "      outputDiv = document.getElementById(\"altair-viz-2f677f16f4dd432c8b1596d0d6f6ccbb\");\n",
       "    }\n",
       "    const paths = {\n",
       "      \"vega\": \"https://cdn.jsdelivr.net/npm//vega@5?noext\",\n",
       "      \"vega-lib\": \"https://cdn.jsdelivr.net/npm//vega-lib?noext\",\n",
       "      \"vega-lite\": \"https://cdn.jsdelivr.net/npm//vega-lite@4.8.1?noext\",\n",
       "      \"vega-embed\": \"https://cdn.jsdelivr.net/npm//vega-embed@6?noext\",\n",
       "    };\n",
       "\n",
       "    function loadScript(lib) {\n",
       "      return new Promise(function(resolve, reject) {\n",
       "        var s = document.createElement('script');\n",
       "        s.src = paths[lib];\n",
       "        s.async = true;\n",
       "        s.onload = () => resolve(paths[lib]);\n",
       "        s.onerror = () => reject(`Error loading script: ${paths[lib]}`);\n",
       "        document.getElementsByTagName(\"head\")[0].appendChild(s);\n",
       "      });\n",
       "    }\n",
       "\n",
       "    function showError(err) {\n",
       "      outputDiv.innerHTML = `<div class=\"error\" style=\"color:red;\">${err}</div>`;\n",
       "      throw err;\n",
       "    }\n",
       "\n",
       "    function displayChart(vegaEmbed) {\n",
       "      vegaEmbed(outputDiv, spec, embedOpt)\n",
       "        .catch(err => showError(`Javascript Error: ${err.message}<br>This usually means there's a typo in your chart specification. See the javascript console for the full traceback.`));\n",
       "    }\n",
       "\n",
       "    if(typeof define === \"function\" && define.amd) {\n",
       "      requirejs.config({paths});\n",
       "      require([\"vega-embed\"], displayChart, err => showError(`Error loading script: ${err.message}`));\n",
       "    } else if (typeof vegaEmbed === \"function\") {\n",
       "      displayChart(vegaEmbed);\n",
       "    } else {\n",
       "      loadScript(\"vega\")\n",
       "        .then(() => loadScript(\"vega-lite\"))\n",
       "        .then(() => loadScript(\"vega-embed\"))\n",
       "        .catch(showError)\n",
       "        .then(() => displayChart(vegaEmbed));\n",
       "    }\n",
       "  })({\"config\": {\"view\": {\"continuousWidth\": 400, \"continuousHeight\": 300}}, \"hconcat\": [{\"data\": {\"name\": \"data-a0663286d563be0684e434c3ecfdf001\"}, \"mark\": \"bar\", \"encoding\": {\"color\": {\"type\": \"nominal\", \"field\": \"is_max\"}, \"tooltip\": {\"type\": \"quantitative\", \"field\": \"count\"}, \"x\": {\"type\": \"nominal\", \"field\": \"group\"}, \"y\": {\"type\": \"quantitative\", \"field\": \"count\"}}, \"height\": 50, \"title\": \"# covid\", \"width\": 20}, {\"data\": {\"name\": \"data-6c1da0a4fe1056e284fc6f42e9fd0723\"}, \"mark\": \"bar\", \"encoding\": {\"color\": {\"type\": \"nominal\", \"field\": \"is_max\"}, \"tooltip\": {\"type\": \"quantitative\", \"field\": \"count\"}, \"x\": {\"type\": \"nominal\", \"field\": \"group\"}, \"y\": {\"type\": \"quantitative\", \"field\": \"count\"}}, \"height\": 50, \"title\": \"# covid\", \"width\": 20}, {\"data\": {\"name\": \"data-b874c4a4ebf707c3f8081bd1c35e9584\"}, \"mark\": \"bar\", \"encoding\": {\"color\": {\"type\": \"nominal\", \"field\": \"is_max\"}, \"tooltip\": {\"type\": \"quantitative\", \"field\": \"count\"}, \"x\": {\"type\": \"nominal\", \"field\": \"group\"}, \"y\": {\"type\": \"quantitative\", \"field\": \"count\"}}, \"height\": 50, \"title\": \"# covid\", \"width\": 20}, {\"data\": {\"name\": \"data-190eb6e072988b5c5a352f6a729ff98c\"}, \"mark\": \"bar\", \"encoding\": {\"color\": {\"type\": \"nominal\", \"field\": \"is_max\"}, \"tooltip\": {\"type\": \"quantitative\", \"field\": \"count\"}, \"x\": {\"type\": \"nominal\", \"field\": \"group\"}, \"y\": {\"type\": \"quantitative\", \"field\": \"count\"}}, \"height\": 50, \"title\": \"# covid\", \"width\": 20}, {\"data\": {\"name\": \"data-32d7bfda325b7a8a35351ee8c74b04bf\"}, \"mark\": \"bar\", \"encoding\": {\"color\": {\"type\": \"nominal\", \"field\": \"is_max\"}, \"tooltip\": {\"type\": \"quantitative\", \"field\": \"count\"}, \"x\": {\"type\": \"nominal\", \"field\": \"group\"}, \"y\": {\"type\": \"quantitative\", \"field\": \"count\"}}, \"height\": 50, \"title\": \"# covid\", \"width\": 20}, {\"data\": {\"name\": \"data-ff8b431c326d6479a6d0d7122b21e9c7\"}, \"mark\": \"bar\", \"encoding\": {\"color\": {\"type\": \"nominal\", \"field\": \"is_max\"}, \"tooltip\": {\"type\": \"quantitative\", \"field\": \"count\"}, \"x\": {\"type\": \"nominal\", \"field\": \"group\"}, \"y\": {\"type\": \"quantitative\", \"field\": \"count\"}}, \"height\": 50, \"title\": \"# covid\", \"width\": 20}, {\"data\": {\"name\": \"data-dba7ae73efeb2f16c7c694d32be11ece\"}, \"mark\": \"bar\", \"encoding\": {\"color\": {\"type\": \"nominal\", \"field\": \"is_max\"}, \"tooltip\": {\"type\": \"quantitative\", \"field\": \"count\"}, \"x\": {\"type\": \"nominal\", \"field\": \"group\"}, \"y\": {\"type\": \"quantitative\", \"field\": \"count\"}}, \"height\": 50, \"title\": \"# covid\", \"width\": 20}, {\"data\": {\"name\": \"data-92dbdcb7a26abd5c03d3ec4811cc649b\"}, \"mark\": \"bar\", \"encoding\": {\"color\": {\"type\": \"nominal\", \"field\": \"is_max\"}, \"tooltip\": {\"type\": \"quantitative\", \"field\": \"count\"}, \"x\": {\"type\": \"nominal\", \"field\": \"group\"}, \"y\": {\"type\": \"quantitative\", \"field\": \"count\"}}, \"height\": 50, \"title\": \"# covid\", \"width\": 20}], \"$schema\": \"https://vega.github.io/schema/vega-lite/v4.8.1.json\", \"datasets\": {\"data-a0663286d563be0684e434c3ecfdf001\": [{\"group\": \"treatment\", \"count\": 520, \"is_max\": false}, {\"group\": \"control\", \"count\": 534, \"is_max\": true}], \"data-6c1da0a4fe1056e284fc6f42e9fd0723\": [{\"group\": \"treatment\", \"count\": 532, \"is_max\": true}, {\"group\": \"control\", \"count\": 529, \"is_max\": false}], \"data-b874c4a4ebf707c3f8081bd1c35e9584\": [{\"group\": \"treatment\", \"count\": 520, \"is_max\": false}, {\"group\": \"control\", \"count\": 573, \"is_max\": true}], \"data-190eb6e072988b5c5a352f6a729ff98c\": [{\"group\": \"treatment\", \"count\": 478, \"is_max\": false}, {\"group\": \"control\", \"count\": 577, \"is_max\": true}], \"data-32d7bfda325b7a8a35351ee8c74b04bf\": [{\"group\": \"treatment\", \"count\": 530, \"is_max\": false}, {\"group\": \"control\", \"count\": 573, \"is_max\": true}], \"data-ff8b431c326d6479a6d0d7122b21e9c7\": [{\"group\": \"treatment\", \"count\": 524, \"is_max\": false}, {\"group\": \"control\", \"count\": 554, \"is_max\": true}], \"data-dba7ae73efeb2f16c7c694d32be11ece\": [{\"group\": \"treatment\", \"count\": 470, \"is_max\": false}, {\"group\": \"control\", \"count\": 581, \"is_max\": true}], \"data-92dbdcb7a26abd5c03d3ec4811cc649b\": [{\"group\": \"treatment\", \"count\": 530, \"is_max\": false}, {\"group\": \"control\", \"count\": 608, \"is_max\": true}]}}, {\"mode\": \"vega-lite\"});\n",
       "</script>"
      ],
      "text/plain": [
       "alt.HConcatChart(...)"
      ]
     },
     "execution_count": 94,
     "metadata": {},
     "output_type": "execute_result"
    }
   ],
   "source": [
    "all_ = []\n",
    "\n",
    "for j in range(8):\n",
    "    df1 = make_data_frame(p_covid_treat=.1, p_covid_control=.11, totalN=10000)\n",
    "    plot1 = make_plot_2(df1)\n",
    "    all_.append(plot1)\n",
    "\n",
    "alt.hconcat(*all_)"
   ]
  },
  {
   "cell_type": "markdown",
   "id": "7b8528cf",
   "metadata": {},
   "source": [
    "- What happens as you incease totalN to 10000 (the sample size) above? "
   ]
  },
  {
   "cell_type": "markdown",
   "id": "e996dd57",
   "metadata": {},
   "source": [
    "[your answer here]"
   ]
  },
  {
   "cell_type": "markdown",
   "id": "9ad898c7",
   "metadata": {},
   "source": [
    "- What happens if you vary the effect size (by increasing the distance between p_covid_treat and p_covid_control)?"
   ]
  },
  {
   "cell_type": "markdown",
   "id": "584a79ad",
   "metadata": {},
   "source": [
    "[your answer here]"
   ]
  },
  {
   "cell_type": "markdown",
   "id": "a378cc42",
   "metadata": {},
   "source": [
    "### Challenge 1\n",
    "\n",
    "How small an effect size can you detect, by varying the N to have as big a sample as you want? For the purposes of this notebook, we can say an effect is \"detected\" if all 8 experiments show the same result (i.e. more COVID in control group). We will define things like this more precisely later in the semester. For now, we are just building intuition.\n"
   ]
  },
  {
   "cell_type": "markdown",
   "id": "473c0fb5",
   "metadata": {},
   "source": [
    "### Challenge 2\n",
    "\n",
    "How small big an effect size can you detect with the smallest possible N? For the purposes of this notebook, we say an effect is \"detected\" if all 8 experiments show the same result (i.e. more COVID in control group). We will define things like this more precisely later in the semester. For now, we are just building intuition."
   ]
  },
  {
   "cell_type": "code",
   "execution_count": null,
   "id": "2721cf7b",
   "metadata": {},
   "outputs": [],
   "source": []
  }
 ],
 "metadata": {
  "kernelspec": {
   "display_name": "Python 3",
   "language": "python",
   "name": "python3"
  },
  "language_info": {
   "codemirror_mode": {
    "name": "ipython",
    "version": 3
   },
   "file_extension": ".py",
   "mimetype": "text/x-python",
   "name": "python",
   "nbconvert_exporter": "python",
   "pygments_lexer": "ipython3",
   "version": "3.8.11"
  }
 },
 "nbformat": 4,
 "nbformat_minor": 5
}
