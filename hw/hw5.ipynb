{
 "cells": [
  {
   "cell_type": "markdown",
   "id": "6deec0a7",
   "metadata": {},
   "source": [
    "# INFO 3401 – Homework 5\n",
    "\n",
    "\n",
    "In this homework, you will gain practice exploring the correlation between two variables."
   ]
  },
  {
   "cell_type": "markdown",
   "id": "e2f710df",
   "metadata": {},
   "source": [
    "### Step 1: find a dataset\n",
    "\n",
    "For this assignment, you should find a dataset that is interesting to you. You might want to try [Kaggle](https://www.kaggle.com/datasets?fileType=sqlite), Google [dataset search](https://datasetsearch.research.google.com/) or Prof. Keegan's [list](https://medium.com/information-expositions/list-of-lists-of-datasets-c9bf52370755) of datasets for ideas. \n",
    "\n",
    "_You should read the rest of the assignment now to make sure that the dataset you pick will allow you to answer the questions you need to answer._"
   ]
  },
  {
   "cell_type": "code",
   "execution_count": null,
   "id": "e2c68e1d",
   "metadata": {},
   "outputs": [],
   "source": [
    "# Your code for loading your data into the notebook should go here\n",
    "# It's probably easiest to load in a csv or jsonl file, but you are also welcome to use a sqlite file"
   ]
  },
  {
   "cell_type": "markdown",
   "id": "2d2e3e40",
   "metadata": {},
   "source": [
    "### Step 2: group the data and select two fields\n",
    "\n",
    "After you have picked a dataset, you should perform (1) a group by and (2) an aggregation to create a new dataframe. After you have performed the group by and aggregation you should make a smaller dataframe by picking two fields (aka series) from your grouped and aggregated dataframe. Use the variable `small_df` refer to your smaller dataframe.\n",
    "\n",
    "For example, you might start with a dataset of the total points per game and shooting percentage for every player who ever played in the NBA. You could then perform a groupby and aggregation to get the total points per game for each player in the dataset. Note you could also group and aggregate the data in other ways. For instance, you could group by team and aggregate by taking the max (instead of the average)."
   ]
  },
  {
   "cell_type": "code",
   "execution_count": 1,
   "id": "d497cefb",
   "metadata": {},
   "outputs": [],
   "source": [
    "small_df = None # fill this variable with your smaller dataframe"
   ]
  },
  {
   "cell_type": "markdown",
   "id": "edfaf061",
   "metadata": {},
   "source": [
    "Here is an example of what your `small_df` dataframe  might look like after you perform groupby and aggregation: \n",
    "\n",
    "| Player         | Avg Points | Shooting percentage |\n",
    "|----------------|------------|--------------------:|\n",
    "| LeBron James   | 30.5       |                 .46 |\n",
    "| Michael Jordan | 30.1       |                 .51 |\n",
    "| Steph Curry    | 29.8       |                 .48 |"
   ]
  },
  {
   "cell_type": "markdown",
   "id": "95914721",
   "metadata": {},
   "source": [
    "### Step 3: make a scatter plot showing the relationship between the variables\n",
    "\n",
    "Make a scatter plot showing the relationship between the two variables in your dataframe. As always, be sure to consider the aesthetics of your plot. Does the scale of the axis make sense? Does your plot have a title? Are the axes labeled?"
   ]
  },
  {
   "cell_type": "code",
   "execution_count": null,
   "id": "520aaaae",
   "metadata": {},
   "outputs": [],
   "source": [
    "# your plot making code here. Show your plot below."
   ]
  },
  {
   "cell_type": "markdown",
   "id": "f44d8a0d",
   "metadata": {},
   "source": [
    "### Step 4: interpret your plot\n",
    "\n",
    "Based on your plot, do your two variables seem correlated? Anticorrelated? Or is there no relationship between the variables? \n",
    "\n",
    "[Your answer here]"
   ]
  },
  {
   "cell_type": "markdown",
   "id": "76e891db",
   "metadata": {},
   "source": [
    "### Step 5: quantitatively compute correlation\n",
    "\n",
    "Eyeballing a plot is a good start, but it's good to also quantitatively compute the correlation between variables.\n",
    "Using the correlation function, compute the correlation between your two variables. Does your computed correlation match what you would expect from your plot? \n",
    "\n",
    "[Answer with a few sentences here]"
   ]
  },
  {
   "cell_type": "code",
   "execution_count": 21,
   "id": "36b25089",
   "metadata": {},
   "outputs": [],
   "source": [
    "def correlation(x, y):\n",
    "    '''\n",
    "    Input:\n",
    "        x, a list of values\n",
    "        y, a list of values\n",
    "    \n",
    "    Returns the Pearson correlation between x and y\n",
    "    '''\n",
    "    X = np.stack((x, y), axis=0)\n",
    "    cov =  a[0][1]\n",
    "    sd1, sd2 = np.sqrt(a[0][0]), np.sqrt(a[1][1])\n",
    "    return cov/(sd1 * sd2)\n",
    "\n",
    "# your code here"
   ]
  },
  {
   "cell_type": "markdown",
   "id": "4df2b50e",
   "metadata": {},
   "source": [
    "### Step 6: Interpret correlation vs. causality\n",
    "\n",
    "You have probably heard that [correlation does not imply causation](https://en.wikipedia.org/wiki/Correlation_does_not_imply_causation). If your two variables are (even somewhat) correlated or anticorrelated, can you provide an explanation for what might cause the correlation between A and B? For instance, in men, arthritis and baldness are correlated. Men who have arthritis are also often bald. But that does not mean that arthritis _causes_ baldness. There is an underlying variable (age) that actually causes these correlated observations. Can you think of a similar explanation for your data? If your variables are totally uncorrelated, then you should answer this question by discussing a third variable that is likely correlated with one of your two variables, and then explaining how correlation with this third variable may not imply causation."
   ]
  },
  {
   "cell_type": "markdown",
   "id": "d5e716c8",
   "metadata": {},
   "source": [
    "[Answer with a short paragraph here]"
   ]
  },
  {
   "cell_type": "code",
   "execution_count": null,
   "id": "aa7fb8f4",
   "metadata": {},
   "outputs": [],
   "source": []
  }
 ],
 "metadata": {
  "kernelspec": {
   "display_name": "Python 3 (ipykernel)",
   "language": "python",
   "name": "python3"
  },
  "language_info": {
   "codemirror_mode": {
    "name": "ipython",
    "version": 3
   },
   "file_extension": ".py",
   "mimetype": "text/x-python",
   "name": "python",
   "nbconvert_exporter": "python",
   "pygments_lexer": "ipython3",
   "version": "3.8.3"
  }
 },
 "nbformat": 4,
 "nbformat_minor": 5
}
