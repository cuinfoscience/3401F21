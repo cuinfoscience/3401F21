{
 "cells": [
  {
   "cell_type": "markdown",
   "metadata": {},
   "source": [
    "# INFO 3401 – HW1  \n",
    "\n",
    "## Background\n",
    "\n",
    "Representatives elected to the U.S. House are given budgets to hire staff and to run their offices in Washington, D.C. as well as in their home district. Senior leadership offices and committees also receive budgets to hire their own staff and conduct their business. These funds cannot be used for personal or campaign expenses and there is no reserve fund if members run over budget. These budgets vary across members and committees  and depend on a variety of factors. Detailed records of these disbursements are [published quarterly as CSV files](https://www.house.gov/the-house-explained/open-government/statement-of-disbursements/archive) going back to 2010.\n",
    "\n",
    "Make sure to also check out the [Details](https://www.house.gov/the-house-explained/open-government/statement-of-disbursements/details), [FAQ](https://www.house.gov/the-house-explained/open-government/statement-of-disbursements/frequently-asked-questions), [Glossary](https://www.house.gov/the-house-explained/open-government/statement-of-disbursements/glossary-of-terms), and [Transaction Codes](https://www.house.gov/the-house-explained/open-government/statement-of-disbursements/transaction-codes).\n",
    "\n",
    "For more optional background, also check out the [cleaned data](https://projects.propublica.org/represent/expenditures), [blog posts](https://www.propublica.org/article/update-on-house-disbursements-a-few-notes-on-how-to-use-the-data), [training resources](https://www.propublica.org/documents/item/3230540-75012825-House-Disbursements-Reports-Training.html), and stories about [budget reductions](https://www.propublica.org/article/house-operating-budget-cuts-paving-way-for-more-special-interest-influence) and [staff turnover](https://www.propublica.org/article/turnover-in-the-house-who-keeps-and-who-loses-the-most-staff) the ProPublica/Sunlight Foundation publishes about these data.\n",
    "\n",
    "The notebook follows Chapter 4 in Peng and Matsui *The Art of Data Science* if you want more background."
   ]
  },
  {
   "cell_type": "code",
   "execution_count": 63,
   "metadata": {},
   "outputs": [],
   "source": [
    "import pandas as pd"
   ]
  },
  {
   "cell_type": "markdown",
   "metadata": {},
   "source": [
    "## Step 1: Formulate a question\n",
    "\n",
    "In this notebook, we will examine the following question: \n",
    "\n",
    "What do the House members who spend the most on travel have in common?"
   ]
  },
  {
   "cell_type": "markdown",
   "metadata": {},
   "source": [
    "## Step 2: Read in the data\n",
    "\n",
    "Load the 2019 Q3 \"SOD Detail Transactions\" data from the offical House site and assign to `h20q1_df`. Read in from disk or downloading directly from the web are both acceptable. \n",
    "\n",
    "Include two other parameters in your `read_csv` function:\n",
    "* **encoding** You may get a character encoding error, pass 'latin1' to \"encoding\" parameter.\n",
    "* **parse_dates** Pass \"TRANSACTION DATE\", \"PERFORM START DT\", and \"PERFORM END DT\" as a list to the \"parse_dates\" parameter."
   ]
  },
  {
   "cell_type": "code",
   "execution_count": null,
   "metadata": {},
   "outputs": [],
   "source": [
    "[your code here]"
   ]
  },
  {
   "cell_type": "markdown",
   "metadata": {},
   "source": [
    "## Step 3: Check the data\n",
    "\n",
    "How many rows and columns are in `h20q1_df`? Print out the lengths of each/both as integers."
   ]
  },
  {
   "cell_type": "code",
   "execution_count": null,
   "metadata": {},
   "outputs": [],
   "source": [
    "[your code here]"
   ]
  },
  {
   "cell_type": "markdown",
   "metadata": {},
   "source": [
    "## Step 4: Investigate the data\n",
    "\n",
    "Inspect the first 10 and last 10 rows of data. Look at a sample of the data. Investigate the [Details](https://www.house.gov/the-house-explained/open-government/statement-of-disbursements/details), [FAQ](https://www.house.gov/the-house-explained/open-government/statement-of-disbursements/frequently-asked-questions), [Glossary](https://www.house.gov/the-house-explained/open-government/statement-of-disbursements/glossary-of-terms), and [Transaction Codes](https://www.house.gov/the-house-explained/open-government/statement-of-disbursements/transaction-codes) to try and get a sense of what the data means.\n"
   ]
  },
  {
   "cell_type": "code",
   "execution_count": null,
   "metadata": {},
   "outputs": [],
   "source": [
    "[your code here]"
   ]
  },
  {
   "cell_type": "markdown",
   "metadata": {},
   "source": [
    "## Step 5: Check the \"n\"s and clean the data\n",
    "\n",
    "Check the kinds of values that are possible for each of the \"ORGANIZATION\", \"PROGRAM\", \"SORT SUBTOTAL DESCRIPTION\", and \"SORT SEQUENCE\" columns, and how frequently they occur."
   ]
  },
  {
   "cell_type": "code",
   "execution_count": null,
   "metadata": {},
   "outputs": [],
   "source": [
    "[your code here]"
   ]
  },
  {
   "cell_type": "markdown",
   "metadata": {},
   "source": [
    "Use Boolean indexing to remove the rows of data corresponding to \"SUBTOTAL\" and \"GRAND TOTAL FOR ORGANIZATION\" under \"SORT SEQUENCE\" since these are duplicates/aggregations. Check to make sure that only \"DETAIL\" remains afterwards. After you run the next cell, you should have a variable called `h20q1_df` with rows that all have 'SORT SEQUENCE' equal to \"DETAIL\""
   ]
  },
  {
   "cell_type": "code",
   "execution_count": null,
   "metadata": {},
   "outputs": [],
   "source": [
    "[your code here]"
   ]
  },
  {
   "cell_type": "markdown",
   "metadata": {},
   "source": [
    "## Step 6: Validate the data\n",
    "\n",
    "\"TRAVEL\" makes up one of the most frequent expenses under \"SORT SUBTOTAL DESCRIPTION\". Use Boolean indexing to create a new DataFrame called `travel_df` that only contains \"TRAVEL\" from \"SORT SUBTOTAL DESCRIPTION\". What is the average value of \"AMOUNT\" in `travel_df`? \n",
    "- You many need to rename the \"AMOUNT\" column. \n",
    "- You will also need to look up how to compute the mean of a pandas series\n",
    "\n",
    "(You can look at the docs for how to do this, or search online). "
   ]
  },
  {
   "cell_type": "code",
   "execution_count": 55,
   "metadata": {},
   "outputs": [],
   "source": [
    "[your code here]"
   ]
  },
  {
   "cell_type": "markdown",
   "metadata": {},
   "source": [
    "Does the average value seem reasonable? What do you think the value represents? To answer, you will need to both inspect the data and information that you can find about the data online. So be sure to check out the [Details](https://www.house.gov/the-house-explained/open-government/statement-of-disbursements/details), [FAQ](https://www.house.gov/the-house-explained/open-government/statement-of-disbursements/frequently-asked-questions), [Glossary](https://www.house.gov/the-house-explained/open-government/statement-of-disbursements/glossary-of-terms), and [Transaction Codes](https://www.house.gov/the-house-explained/open-government/statement-of-disbursements/transaction-codes)."
   ]
  },
  {
   "cell_type": "markdown",
   "metadata": {},
   "source": [
    "[Your explanation here]"
   ]
  },
  {
   "cell_type": "markdown",
   "metadata": {},
   "source": [
    "## Step 7: Try an easy solution\n",
    "\n",
    "Make a pivot table with `travel_df` with \"ORGANIZATION\" as an index, \"DESCRIPTION\" as columns, \"AMOUNT\" as values, and 'sum' as an aggfunc."
   ]
  },
  {
   "cell_type": "code",
   "execution_count": 56,
   "metadata": {},
   "outputs": [],
   "source": [
    "[your code here]"
   ]
  },
  {
   "cell_type": "markdown",
   "metadata": {},
   "source": [
    "Sort the resulting table in descending order by different columns like \"COMMERCIAL TRANSPORTATION\", \"MEALS\", \"PRIVATE AUTO MILEAGE\"."
   ]
  },
  {
   "cell_type": "code",
   "execution_count": null,
   "metadata": {},
   "outputs": [],
   "source": [
    "[your code here]"
   ]
  },
  {
   "cell_type": "markdown",
   "metadata": {},
   "source": [
    "Look up the biographies for the offices or committees with the highest totals. Are there any patterns based on the district they represent or the work that the committee does? Write a short paragraph interpreting your results."
   ]
  },
  {
   "cell_type": "markdown",
   "metadata": {},
   "source": [
    "[your explanation here]"
   ]
  }
 ],
 "metadata": {
  "kernelspec": {
   "display_name": "Python 3",
   "language": "python",
   "name": "python3"
  },
  "language_info": {
   "codemirror_mode": {
    "name": "ipython",
    "version": 3
   },
   "file_extension": ".py",
   "mimetype": "text/x-python",
   "name": "python",
   "nbconvert_exporter": "python",
   "pygments_lexer": "ipython3",
   "version": "3.8.3"
  }
 },
 "nbformat": 4,
 "nbformat_minor": 4
}
