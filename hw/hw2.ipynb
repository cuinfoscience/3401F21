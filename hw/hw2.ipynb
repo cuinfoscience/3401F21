{
 "cells": [
  {
   "cell_type": "markdown",
   "metadata": {},
   "source": [
    "## HW2\n",
    "### INFO 3401"
   ]
  },
  {
   "cell_type": "code",
   "execution_count": 1,
   "metadata": {},
   "outputs": [],
   "source": [
    "import numpy as np\n",
    "import pandas as pd\n",
    "import sqlite3\n",
    "import os"
   ]
  },
  {
   "cell_type": "markdown",
   "metadata": {},
   "source": [
    "## Getting started"
   ]
  },
  {
   "cell_type": "markdown",
   "metadata": {},
   "source": [
    "Download the [Lahman's baseball database](http://www.seanlahman.com/baseball-archive/statistics/) from Canvas. \n",
    "- You will need to unzip the file and include it in the same directory as your notebook. \n",
    "- You will have to name your unzipped file `lahmansbaseballdb.sqlite` \n",
    "- If you are not quite sure what to do for this step, please consult the section on the file system in the INFO Paratechnical Handbook which has additional information. Then please post to Canvas for help!\n",
    "- Note the database is current only to 2018. "
   ]
  },
  {
   "cell_type": "code",
   "execution_count": 2,
   "metadata": {},
   "outputs": [],
   "source": [
    "# here is how you connect to the Lahman database and \n",
    "# describe its tables\n",
    "\n",
    "import sqlite3\n",
    "\n",
    " # pass a string pointing to the .sqlite file on your machine\n",
    "con = sqlite3.connect(\"lahmansbaseballdb.sqlite\")\n",
    "\n",
    "# get the db name\n",
    "db_name = pd.read_sql(\"PRAGMA database_list;\", con)[\"name\"][0]"
   ]
  },
  {
   "cell_type": "code",
   "execution_count": 96,
   "metadata": {},
   "outputs": [
    {
     "data": {
      "text/html": [
       "<div>\n",
       "<style scoped>\n",
       "    .dataframe tbody tr th:only-of-type {\n",
       "        vertical-align: middle;\n",
       "    }\n",
       "\n",
       "    .dataframe tbody tr th {\n",
       "        vertical-align: top;\n",
       "    }\n",
       "\n",
       "    .dataframe thead th {\n",
       "        text-align: right;\n",
       "    }\n",
       "</style>\n",
       "<table border=\"1\" class=\"dataframe\">\n",
       "  <thead>\n",
       "    <tr style=\"text-align: right;\">\n",
       "      <th></th>\n",
       "      <th>type</th>\n",
       "      <th>name</th>\n",
       "      <th>tbl_name</th>\n",
       "      <th>rootpage</th>\n",
       "      <th>sql</th>\n",
       "    </tr>\n",
       "  </thead>\n",
       "  <tbody>\n",
       "    <tr>\n",
       "      <th>0</th>\n",
       "      <td>table</td>\n",
       "      <td>allstarfull</td>\n",
       "      <td>allstarfull</td>\n",
       "      <td>2</td>\n",
       "      <td>CREATE TABLE \"allstarfull\" (\\n\\t\"ID\" INTEGER N...</td>\n",
       "    </tr>\n",
       "    <tr>\n",
       "      <th>1</th>\n",
       "      <td>table</td>\n",
       "      <td>appearances</td>\n",
       "      <td>appearances</td>\n",
       "      <td>151</td>\n",
       "      <td>CREATE TABLE \"appearances\" (\\n\\t\"ID\" INTEGER N...</td>\n",
       "    </tr>\n",
       "    <tr>\n",
       "      <th>2</th>\n",
       "      <td>table</td>\n",
       "      <td>awardsmanagers</td>\n",
       "      <td>awardsmanagers</td>\n",
       "      <td>3436</td>\n",
       "      <td>CREATE TABLE \"awardsmanagers\" (\\n\\t\"ID\" INTEGE...</td>\n",
       "    </tr>\n",
       "    <tr>\n",
       "      <th>3</th>\n",
       "      <td>table</td>\n",
       "      <td>awardsplayers</td>\n",
       "      <td>awardsplayers</td>\n",
       "      <td>3445</td>\n",
       "      <td>CREATE TABLE \"awardsplayers\" (\\n\\t\"ID\" INTEGER...</td>\n",
       "    </tr>\n",
       "    <tr>\n",
       "      <th>4</th>\n",
       "      <td>table</td>\n",
       "      <td>awardssharemanagers</td>\n",
       "      <td>awardssharemanagers</td>\n",
       "      <td>3603</td>\n",
       "      <td>CREATE TABLE \"awardssharemanagers\" (\\n\\t\"ID\" I...</td>\n",
       "    </tr>\n",
       "  </tbody>\n",
       "</table>\n",
       "</div>"
      ],
      "text/plain": [
       "    type                 name             tbl_name  rootpage  \\\n",
       "0  table          allstarfull          allstarfull         2   \n",
       "1  table          appearances          appearances       151   \n",
       "2  table       awardsmanagers       awardsmanagers      3436   \n",
       "3  table        awardsplayers        awardsplayers      3445   \n",
       "4  table  awardssharemanagers  awardssharemanagers      3603   \n",
       "\n",
       "                                                 sql  \n",
       "0  CREATE TABLE \"allstarfull\" (\\n\\t\"ID\" INTEGER N...  \n",
       "1  CREATE TABLE \"appearances\" (\\n\\t\"ID\" INTEGER N...  \n",
       "2  CREATE TABLE \"awardsmanagers\" (\\n\\t\"ID\" INTEGE...  \n",
       "3  CREATE TABLE \"awardsplayers\" (\\n\\t\"ID\" INTEGER...  \n",
       "4  CREATE TABLE \"awardssharemanagers\" (\\n\\t\"ID\" I...  "
      ]
     },
     "execution_count": 96,
     "metadata": {},
     "output_type": "execute_result"
    }
   ],
   "source": [
    "# Let's list the first five tables in the database\n",
    "\n",
    "list_tables = \"SELECT * FROM {}.sqlite_master WHERE type='table';\".format(db_name)\n",
    "\n",
    "lahmans = pd.read_sql(list_tables , con=con)\n",
    "\n",
    "lahmans[0:5]"
   ]
  },
  {
   "cell_type": "code",
   "execution_count": 91,
   "metadata": {},
   "outputs": [
    {
     "data": {
      "text/html": [
       "<div>\n",
       "<style scoped>\n",
       "    .dataframe tbody tr th:only-of-type {\n",
       "        vertical-align: middle;\n",
       "    }\n",
       "\n",
       "    .dataframe tbody tr th {\n",
       "        vertical-align: top;\n",
       "    }\n",
       "\n",
       "    .dataframe thead th {\n",
       "        text-align: right;\n",
       "    }\n",
       "</style>\n",
       "<table border=\"1\" class=\"dataframe\">\n",
       "  <thead>\n",
       "    <tr style=\"text-align: right;\">\n",
       "      <th></th>\n",
       "      <th>max(yearid)</th>\n",
       "    </tr>\n",
       "  </thead>\n",
       "  <tbody>\n",
       "    <tr>\n",
       "      <th>0</th>\n",
       "      <td>2018</td>\n",
       "    </tr>\n",
       "  </tbody>\n",
       "</table>\n",
       "</div>"
      ],
      "text/plain": [
       "   max(yearid)\n",
       "0         2018"
      ]
     },
     "execution_count": 91,
     "metadata": {},
     "output_type": "execute_result"
    }
   ],
   "source": [
    "# data is only current to 2018! This is important as you draw\n",
    "# conclusions from the data\n",
    "pd.read_sql_query('select max(yearid) from halloffame', con) "
   ]
  },
  {
   "cell_type": "markdown",
   "metadata": {},
   "source": [
    "## Deliverable 1"
   ]
  },
  {
   "cell_type": "markdown",
   "metadata": {},
   "source": [
    "The database contains a table called \"halloffame\". Use a SELECT statement to print out the first five records of the halloffame table. Use a [limit clause](https://www.sqlitetutorial.net/sqlite-limit/) to only select the first five rows of the table. Note that you will need to use the pandas `read_sql_query` method which takes a connection arguments stored in the variable `con`. "
   ]
  },
  {
   "cell_type": "code",
   "execution_count": null,
   "metadata": {},
   "outputs": [],
   "source": [
    "my_sql_statement = None # your code here\n",
    "\n",
    "pd.read_sql_query(my_sql_statement, con)"
   ]
  },
  {
   "cell_type": "markdown",
   "metadata": {},
   "source": [
    "## Deliverable 2"
   ]
  },
  {
   "cell_type": "markdown",
   "metadata": {},
   "source": [
    "What are the fields in the hall of fame table? What do you think they represent?\n",
    "\n",
    "[Your answer here]"
   ]
  },
  {
   "cell_type": "markdown",
   "metadata": {},
   "source": [
    "## Deliverable 3"
   ]
  },
  {
   "cell_type": "markdown",
   "metadata": {},
   "source": [
    "The `halloffame` table includes a field called `playerid`. Often when you have an `id` field in a database it links to another table in the db. Often working with a database means using SQL to explore and learn the structure of the db. Use the `lahmans` dataframe from above to list the tables in the basebaseball database. Try to discover which table might contain a `playerid` field as a primary key. Then fill out the cell below to select the first five rows from the table. "
   ]
  },
  {
   "cell_type": "code",
   "execution_count": 3,
   "metadata": {},
   "outputs": [],
   "source": [
    "list_from_table = None # your query here\n",
    "pd.read_sql_query(list_from_table, con)"
   ]
  },
  {
   "cell_type": "markdown",
   "metadata": {},
   "source": [
    "## Deliverable 4\n",
    "\n",
    "Looking again at the tables in the notebook, notice that there is an `allstarfull` table. Let's look at that table."
   ]
  },
  {
   "cell_type": "code",
   "execution_count": 20,
   "metadata": {},
   "outputs": [
    {
     "data": {
      "text/html": [
       "<div>\n",
       "<style scoped>\n",
       "    .dataframe tbody tr th:only-of-type {\n",
       "        vertical-align: middle;\n",
       "    }\n",
       "\n",
       "    .dataframe tbody tr th {\n",
       "        vertical-align: top;\n",
       "    }\n",
       "\n",
       "    .dataframe thead th {\n",
       "        text-align: right;\n",
       "    }\n",
       "</style>\n",
       "<table border=\"1\" class=\"dataframe\">\n",
       "  <thead>\n",
       "    <tr style=\"text-align: right;\">\n",
       "      <th></th>\n",
       "      <th>ID</th>\n",
       "      <th>playerID</th>\n",
       "      <th>yearID</th>\n",
       "      <th>gameNum</th>\n",
       "      <th>gameID</th>\n",
       "      <th>teamID</th>\n",
       "      <th>team_ID</th>\n",
       "      <th>lgID</th>\n",
       "      <th>GP</th>\n",
       "      <th>startingPos</th>\n",
       "    </tr>\n",
       "  </thead>\n",
       "  <tbody>\n",
       "    <tr>\n",
       "      <th>0</th>\n",
       "      <td>1</td>\n",
       "      <td>gomezle01</td>\n",
       "      <td>1933</td>\n",
       "      <td>0</td>\n",
       "      <td>ALS193307060</td>\n",
       "      <td>NYA</td>\n",
       "      <td>921</td>\n",
       "      <td>AL</td>\n",
       "      <td>1</td>\n",
       "      <td>1</td>\n",
       "    </tr>\n",
       "    <tr>\n",
       "      <th>1</th>\n",
       "      <td>2</td>\n",
       "      <td>ferreri01</td>\n",
       "      <td>1933</td>\n",
       "      <td>0</td>\n",
       "      <td>ALS193307060</td>\n",
       "      <td>BOS</td>\n",
       "      <td>912</td>\n",
       "      <td>AL</td>\n",
       "      <td>1</td>\n",
       "      <td>2</td>\n",
       "    </tr>\n",
       "    <tr>\n",
       "      <th>2</th>\n",
       "      <td>3</td>\n",
       "      <td>gehrilo01</td>\n",
       "      <td>1933</td>\n",
       "      <td>0</td>\n",
       "      <td>ALS193307060</td>\n",
       "      <td>NYA</td>\n",
       "      <td>921</td>\n",
       "      <td>AL</td>\n",
       "      <td>1</td>\n",
       "      <td>3</td>\n",
       "    </tr>\n",
       "    <tr>\n",
       "      <th>3</th>\n",
       "      <td>4</td>\n",
       "      <td>gehrich01</td>\n",
       "      <td>1933</td>\n",
       "      <td>0</td>\n",
       "      <td>ALS193307060</td>\n",
       "      <td>DET</td>\n",
       "      <td>919</td>\n",
       "      <td>AL</td>\n",
       "      <td>1</td>\n",
       "      <td>4</td>\n",
       "    </tr>\n",
       "    <tr>\n",
       "      <th>4</th>\n",
       "      <td>5</td>\n",
       "      <td>dykesji01</td>\n",
       "      <td>1933</td>\n",
       "      <td>0</td>\n",
       "      <td>ALS193307060</td>\n",
       "      <td>CHA</td>\n",
       "      <td>915</td>\n",
       "      <td>AL</td>\n",
       "      <td>1</td>\n",
       "      <td>5</td>\n",
       "    </tr>\n",
       "  </tbody>\n",
       "</table>\n",
       "</div>"
      ],
      "text/plain": [
       "   ID   playerID  yearID  gameNum        gameID teamID  team_ID lgID  GP  \\\n",
       "0   1  gomezle01    1933        0  ALS193307060    NYA      921   AL   1   \n",
       "1   2  ferreri01    1933        0  ALS193307060    BOS      912   AL   1   \n",
       "2   3  gehrilo01    1933        0  ALS193307060    NYA      921   AL   1   \n",
       "3   4  gehrich01    1933        0  ALS193307060    DET      919   AL   1   \n",
       "4   5  dykesji01    1933        0  ALS193307060    CHA      915   AL   1   \n",
       "\n",
       "   startingPos  \n",
       "0            1  \n",
       "1            2  \n",
       "2            3  \n",
       "3            4  \n",
       "4            5  "
      ]
     },
     "execution_count": 20,
     "metadata": {},
     "output_type": "execute_result"
    }
   ],
   "source": [
    "pd.read_sql_query('select * from allstarfull limit 5', con)"
   ]
  },
  {
   "cell_type": "markdown",
   "metadata": {},
   "source": [
    "Looking at the `halloffame` table and the `allstarfull` table we can start to form a question. \n",
    "\n",
    "Are there players that were often all stars but who were not elected to the hall of fame? Maybe these are **forgotten stars**! They should have made it to the hall of fame, but they were robbed! \n",
    "\n",
    "Notice that this question emerges from the process of exploring the data. This is a very common pattern.\n",
    "\n",
    "To investigate the question, we need to find out how many all star games each player played in. This will require joins and aggregation. \n",
    "\n",
    "But before we are ready to proceed, we need to understand the data a little better. It is **very** common and **very** important to take time to understand data before drawing conclusions. In this case, it seems like the all_star table has a `gameNum` field."
   ]
  },
  {
   "cell_type": "markdown",
   "metadata": {},
   "source": [
    "What does that field represent? To investivate you will need to check the documentation or field list for the database in the [readme](http://www.seanlahman.com/files/database/readme2017.txt). Learning how to read and make sense of documentation (including data documentation) is an important skill. \n",
    "\n",
    "Another useful way to understand what information is represented in a database is to run SQL queries, such as the one below."
   ]
  },
  {
   "cell_type": "code",
   "execution_count": 98,
   "metadata": {},
   "outputs": [
    {
     "data": {
      "text/html": [
       "<div>\n",
       "<style scoped>\n",
       "    .dataframe tbody tr th:only-of-type {\n",
       "        vertical-align: middle;\n",
       "    }\n",
       "\n",
       "    .dataframe tbody tr th {\n",
       "        vertical-align: top;\n",
       "    }\n",
       "\n",
       "    .dataframe thead th {\n",
       "        text-align: right;\n",
       "    }\n",
       "</style>\n",
       "<table border=\"1\" class=\"dataframe\">\n",
       "  <thead>\n",
       "    <tr style=\"text-align: right;\">\n",
       "      <th></th>\n",
       "      <th>gameNum</th>\n",
       "    </tr>\n",
       "  </thead>\n",
       "  <tbody>\n",
       "    <tr>\n",
       "      <th>0</th>\n",
       "      <td>0</td>\n",
       "    </tr>\n",
       "    <tr>\n",
       "      <th>1</th>\n",
       "      <td>1</td>\n",
       "    </tr>\n",
       "    <tr>\n",
       "      <th>2</th>\n",
       "      <td>2</td>\n",
       "    </tr>\n",
       "  </tbody>\n",
       "</table>\n",
       "</div>"
      ],
      "text/plain": [
       "   gameNum\n",
       "0        0\n",
       "1        1\n",
       "2        2"
      ]
     },
     "execution_count": 98,
     "metadata": {},
     "output_type": "execute_result"
    }
   ],
   "source": [
    "pd.read_sql_query('select distinct gameNum from allstarfull', con)"
   ]
  },
  {
   "cell_type": "markdown",
   "metadata": {},
   "source": [
    "Based on your investigation, what does `gameNum` describe in the `allstarfull` table?\n",
    "\n",
    "[Your answer here]"
   ]
  },
  {
   "cell_type": "markdown",
   "metadata": {},
   "source": [
    "## Deliverable 5\n",
    "\n",
    "- To start to answer our question, create dataframe called all_stars \n",
    "- To create the dataframe, use SQL to join allstarfull with the people table on playerId\n",
    "- Select the following fields: \n",
    "    - 'allstarfull.playerID', 'nameLast', 'nameFirst', 'gameID'\n",
    "    - 'allstarfull.playerID' specifies that you are taking the playerID field from the `allstarfull` table"
   ]
  },
  {
   "cell_type": "code",
   "execution_count": null,
   "metadata": {},
   "outputs": [],
   "source": [
    "your_query = None\n",
    "all_stars = pd.read_sql_query(your_query, con)\n",
    "all_stars"
   ]
  },
  {
   "cell_type": "markdown",
   "metadata": {},
   "source": [
    "## Deliverable 6\n",
    "\n",
    "Pause to check and consider your results. The dataframe `all_stars` says the player aaronha01 played in all star games. Is that right? Well who is `aaronha01`? Use code to check your intuitions about this data by querying the `people` table to learn more about `aaronha01`. Answer by writing a select statement with a where clause."
   ]
  },
  {
   "cell_type": "code",
   "execution_count": null,
   "metadata": {},
   "outputs": [],
   "source": [
    "# delete me answer\n",
    "your_query = None\n",
    "rw = pd.read_sql_query(your_query, con)"
   ]
  },
  {
   "cell_type": "markdown",
   "metadata": {},
   "source": [
    "## Deliverable 7 \n",
    "\n",
    "Look up the player associated with the ID `aaronha01` on Wikipedia.  Who is aaronha01?"
   ]
  },
  {
   "cell_type": "markdown",
   "metadata": {},
   "source": [
    "## Deliverable 8\n",
    "\n",
    "Look at the next cell of code and describe what the three lines of code are doing. You may need to consult the pandas documentation."
   ]
  },
  {
   "cell_type": "markdown",
   "metadata": {},
   "source": [
    "- Line 1. Your explanation here\n",
    "- Line 2. Your explanation here\n",
    "- Line 3. Your explanation here"
   ]
  },
  {
   "cell_type": "code",
   "execution_count": 23,
   "metadata": {},
   "outputs": [],
   "source": [
    "g = all_stars.groupby('playerID').size() # line 1\n",
    "all_star_counts = g.reset_index() # line 2\n",
    "all_star_counts = all_star_counts.rename(columns={0: \"N_all_star_games\"}) # line 3"
   ]
  },
  {
   "cell_type": "markdown",
   "metadata": {},
   "source": [
    "## Deliverable 9"
   ]
  },
  {
   "cell_type": "markdown",
   "metadata": {},
   "source": [
    "Sort `all_star_counts` on the field `N_all_star_games` (higher number of `N_all_star_games` should come first). Which players played in the most all star games? (You may need to join on the people table to get full names)."
   ]
  },
  {
   "cell_type": "markdown",
   "metadata": {},
   "source": [
    "## Merging hall of fame data\n",
    "\n",
    "Now let's look at data from the hall of fame table. Eventually, we will want to join the hall of fame table with the allstarfull table. But for now let's just take a look."
   ]
  },
  {
   "cell_type": "code",
   "execution_count": 80,
   "metadata": {},
   "outputs": [
    {
     "data": {
      "text/html": [
       "<div>\n",
       "<style scoped>\n",
       "    .dataframe tbody tr th:only-of-type {\n",
       "        vertical-align: middle;\n",
       "    }\n",
       "\n",
       "    .dataframe tbody tr th {\n",
       "        vertical-align: top;\n",
       "    }\n",
       "\n",
       "    .dataframe thead th {\n",
       "        text-align: right;\n",
       "    }\n",
       "</style>\n",
       "<table border=\"1\" class=\"dataframe\">\n",
       "  <thead>\n",
       "    <tr style=\"text-align: right;\">\n",
       "      <th></th>\n",
       "      <th>ID</th>\n",
       "      <th>playerID</th>\n",
       "      <th>yearid</th>\n",
       "      <th>votedBy</th>\n",
       "      <th>ballots</th>\n",
       "      <th>needed</th>\n",
       "      <th>votes</th>\n",
       "      <th>inducted</th>\n",
       "      <th>category</th>\n",
       "      <th>needed_note</th>\n",
       "    </tr>\n",
       "  </thead>\n",
       "  <tbody>\n",
       "    <tr>\n",
       "      <th>0</th>\n",
       "      <td>1</td>\n",
       "      <td>cobbty01</td>\n",
       "      <td>1936</td>\n",
       "      <td>BBWAA</td>\n",
       "      <td>226.0</td>\n",
       "      <td>170.0</td>\n",
       "      <td>222.0</td>\n",
       "      <td>Y</td>\n",
       "      <td>Player</td>\n",
       "      <td>None</td>\n",
       "    </tr>\n",
       "    <tr>\n",
       "      <th>1</th>\n",
       "      <td>2</td>\n",
       "      <td>ruthba01</td>\n",
       "      <td>1936</td>\n",
       "      <td>BBWAA</td>\n",
       "      <td>226.0</td>\n",
       "      <td>170.0</td>\n",
       "      <td>215.0</td>\n",
       "      <td>Y</td>\n",
       "      <td>Player</td>\n",
       "      <td>None</td>\n",
       "    </tr>\n",
       "    <tr>\n",
       "      <th>2</th>\n",
       "      <td>3</td>\n",
       "      <td>wagneho01</td>\n",
       "      <td>1936</td>\n",
       "      <td>BBWAA</td>\n",
       "      <td>226.0</td>\n",
       "      <td>170.0</td>\n",
       "      <td>215.0</td>\n",
       "      <td>Y</td>\n",
       "      <td>Player</td>\n",
       "      <td>None</td>\n",
       "    </tr>\n",
       "    <tr>\n",
       "      <th>3</th>\n",
       "      <td>4</td>\n",
       "      <td>mathech01</td>\n",
       "      <td>1936</td>\n",
       "      <td>BBWAA</td>\n",
       "      <td>226.0</td>\n",
       "      <td>170.0</td>\n",
       "      <td>205.0</td>\n",
       "      <td>Y</td>\n",
       "      <td>Player</td>\n",
       "      <td>None</td>\n",
       "    </tr>\n",
       "    <tr>\n",
       "      <th>4</th>\n",
       "      <td>5</td>\n",
       "      <td>johnswa01</td>\n",
       "      <td>1936</td>\n",
       "      <td>BBWAA</td>\n",
       "      <td>226.0</td>\n",
       "      <td>170.0</td>\n",
       "      <td>189.0</td>\n",
       "      <td>Y</td>\n",
       "      <td>Player</td>\n",
       "      <td>None</td>\n",
       "    </tr>\n",
       "    <tr>\n",
       "      <th>...</th>\n",
       "      <td>...</td>\n",
       "      <td>...</td>\n",
       "      <td>...</td>\n",
       "      <td>...</td>\n",
       "      <td>...</td>\n",
       "      <td>...</td>\n",
       "      <td>...</td>\n",
       "      <td>...</td>\n",
       "      <td>...</td>\n",
       "      <td>...</td>\n",
       "    </tr>\n",
       "    <tr>\n",
       "      <th>4186</th>\n",
       "      <td>4187</td>\n",
       "      <td>lidgebr01</td>\n",
       "      <td>2018</td>\n",
       "      <td>BBWAA</td>\n",
       "      <td>422.0</td>\n",
       "      <td>317.0</td>\n",
       "      <td>0.0</td>\n",
       "      <td>N</td>\n",
       "      <td>Player</td>\n",
       "      <td>None</td>\n",
       "    </tr>\n",
       "    <tr>\n",
       "      <th>4187</th>\n",
       "      <td>4188</td>\n",
       "      <td>millwke01</td>\n",
       "      <td>2018</td>\n",
       "      <td>BBWAA</td>\n",
       "      <td>422.0</td>\n",
       "      <td>317.0</td>\n",
       "      <td>0.0</td>\n",
       "      <td>N</td>\n",
       "      <td>Player</td>\n",
       "      <td>None</td>\n",
       "    </tr>\n",
       "    <tr>\n",
       "      <th>4188</th>\n",
       "      <td>4189</td>\n",
       "      <td>zambrca01</td>\n",
       "      <td>2018</td>\n",
       "      <td>BBWAA</td>\n",
       "      <td>422.0</td>\n",
       "      <td>317.0</td>\n",
       "      <td>0.0</td>\n",
       "      <td>N</td>\n",
       "      <td>Player</td>\n",
       "      <td>None</td>\n",
       "    </tr>\n",
       "    <tr>\n",
       "      <th>4189</th>\n",
       "      <td>4190</td>\n",
       "      <td>morrija02</td>\n",
       "      <td>2018</td>\n",
       "      <td>Veterans</td>\n",
       "      <td>NaN</td>\n",
       "      <td>NaN</td>\n",
       "      <td>NaN</td>\n",
       "      <td>Y</td>\n",
       "      <td>Player</td>\n",
       "      <td>None</td>\n",
       "    </tr>\n",
       "    <tr>\n",
       "      <th>4190</th>\n",
       "      <td>4191</td>\n",
       "      <td>trammal01</td>\n",
       "      <td>2018</td>\n",
       "      <td>Veterans</td>\n",
       "      <td>NaN</td>\n",
       "      <td>NaN</td>\n",
       "      <td>NaN</td>\n",
       "      <td>Y</td>\n",
       "      <td>Player</td>\n",
       "      <td>None</td>\n",
       "    </tr>\n",
       "  </tbody>\n",
       "</table>\n",
       "<p>4191 rows × 10 columns</p>\n",
       "</div>"
      ],
      "text/plain": [
       "        ID   playerID  yearid   votedBy  ballots  needed  votes inducted  \\\n",
       "0        1   cobbty01    1936     BBWAA    226.0   170.0  222.0        Y   \n",
       "1        2   ruthba01    1936     BBWAA    226.0   170.0  215.0        Y   \n",
       "2        3  wagneho01    1936     BBWAA    226.0   170.0  215.0        Y   \n",
       "3        4  mathech01    1936     BBWAA    226.0   170.0  205.0        Y   \n",
       "4        5  johnswa01    1936     BBWAA    226.0   170.0  189.0        Y   \n",
       "...    ...        ...     ...       ...      ...     ...    ...      ...   \n",
       "4186  4187  lidgebr01    2018     BBWAA    422.0   317.0    0.0        N   \n",
       "4187  4188  millwke01    2018     BBWAA    422.0   317.0    0.0        N   \n",
       "4188  4189  zambrca01    2018     BBWAA    422.0   317.0    0.0        N   \n",
       "4189  4190  morrija02    2018  Veterans      NaN     NaN    NaN        Y   \n",
       "4190  4191  trammal01    2018  Veterans      NaN     NaN    NaN        Y   \n",
       "\n",
       "     category needed_note  \n",
       "0      Player        None  \n",
       "1      Player        None  \n",
       "2      Player        None  \n",
       "3      Player        None  \n",
       "4      Player        None  \n",
       "...       ...         ...  \n",
       "4186   Player        None  \n",
       "4187   Player        None  \n",
       "4188   Player        None  \n",
       "4189   Player        None  \n",
       "4190   Player        None  \n",
       "\n",
       "[4191 rows x 10 columns]"
      ]
     },
     "execution_count": 80,
     "metadata": {},
     "output_type": "execute_result"
    }
   ],
   "source": [
    "hall = pd.read_sql_query('select  * from halloffame', con)\n",
    "hall"
   ]
  },
  {
   "cell_type": "markdown",
   "metadata": {},
   "source": [
    "## Deliverable 10\n",
    "\n",
    "Is each player listed one time in the halloffame table? You will need to investigate the dataframe with pandas (Hint: use `value_counts`)."
   ]
  },
  {
   "cell_type": "code",
   "execution_count": null,
   "metadata": {},
   "outputs": [],
   "source": [
    "# Your code and answer here"
   ]
  },
  {
   "cell_type": "markdown",
   "metadata": {},
   "source": [
    "## Deliverable 11\n",
    "\n",
    "How many times is the player `vanceda01` listed in the `halloffame` table? Why do you think that is? (Hint: look at the \"inducted\" field in the database documentation). Answer with code using the cell below. Note that a baseball player may be voted to be included in the hall of fame multiple times before they are accepted."
   ]
  },
  {
   "cell_type": "code",
   "execution_count": null,
   "metadata": {},
   "outputs": [],
   "source": [
    "# your code here"
   ]
  },
  {
   "cell_type": "markdown",
   "metadata": {},
   "source": [
    "Adjust the `hall_sql_query` to include a where clause to only select rows from the `halloffame` table where inducted is \"Y\". Store your answer in the variable `inducted_query` below. The next cell should create a dataframe called `hall`. "
   ]
  },
  {
   "cell_type": "code",
   "execution_count": 28,
   "metadata": {},
   "outputs": [],
   "source": [
    "inducted_query = None\n",
    "hall = pd.read_sql_query(inducted_query, con)"
   ]
  },
  {
   "cell_type": "markdown",
   "metadata": {},
   "source": [
    "Now let's merge the `hall` dataframe with the `all_star_counts` dataframe. "
   ]
  },
  {
   "cell_type": "code",
   "execution_count": 34,
   "metadata": {},
   "outputs": [],
   "source": [
    "\n",
    "# I will use pandas to do the join. You could also do this in SQL. The API is similar. \n",
    "merged = pd.merge(all_star_counts, hall, how='left', on='playerID')\n",
    "all_stars_vs_hall = merged[['playerID', \"N_all_star_games\", \"inducted\"]]\n",
    "all_stars_vs_hall = all_stars_vs_hall.fillna(value=\"N\")"
   ]
  },
  {
   "cell_type": "markdown",
   "metadata": {},
   "source": [
    "## Deliverable 12\n",
    "Sort the `all_stars_vs_hall` table by `N_all_star_games` in descending order."
   ]
  },
  {
   "cell_type": "code",
   "execution_count": null,
   "metadata": {},
   "outputs": [],
   "source": [
    "# your code here"
   ]
  },
  {
   "cell_type": "markdown",
   "metadata": {},
   "source": [
    "## Deliverable 13\n",
    "\n",
    "Make a table `missing_hall_of_famers` that shows the 10 players who played in the most all star games who were none the less NOT inducted into the hall of fame. You can filter the `all_stars_vs_hall` table for this, and call the `.head()` method on the filtered dataframe."
   ]
  },
  {
   "cell_type": "code",
   "execution_count": null,
   "metadata": {},
   "outputs": [],
   "source": [
    "missing_hall_of_famers = None"
   ]
  },
  {
   "cell_type": "markdown",
   "metadata": {},
   "source": [
    "## Deliverable 14\n",
    "\n",
    "Who are the players in your `missing_hall_of_famers` table? Try looking up a few of the players online (e.g. Wikipedia). Does your table make sense? Note: you may need to join the people table to see the players' full names. "
   ]
  },
  {
   "cell_type": "markdown",
   "metadata": {},
   "source": [
    "your answer here"
   ]
  }
 ],
 "metadata": {
  "kernelspec": {
   "display_name": "Python 3",
   "language": "python",
   "name": "python3"
  },
  "language_info": {
   "codemirror_mode": {
    "name": "ipython",
    "version": 3
   },
   "file_extension": ".py",
   "mimetype": "text/x-python",
   "name": "python",
   "nbconvert_exporter": "python",
   "pygments_lexer": "ipython3",
   "version": "3.8.3"
  }
 },
 "nbformat": 4,
 "nbformat_minor": 2
}
