{
 "cells": [
  {
   "cell_type": "markdown",
   "metadata": {},
   "source": [
    "# INFO 3401 – Homework 3\n",
    "\n",
    "\n",
    "In this homework, you will gain practice performing exploratory data analysis of a new data set using pandas. The homework is similar to homework one -- only this time you will pick the dataset, the question, and your plan for analysis. \n",
    "\n",
    "In the real world, doing data analysis is not a matter of completing steps assigned to you by an instructor. It is much more about following your own curiousity. This notebook is designed to help you practice that process! You are highly encouraged to challenge yourself and really investigate something that is interesting to you while doing this assignment."
   ]
  },
  {
   "cell_type": "markdown",
   "metadata": {},
   "source": [
    "## Step 0: Load libraries\n",
    "\n",
    "Load the libraries you need. You will probably want to load pandas and altair (or matplotlib). "
   ]
  },
  {
   "cell_type": "code",
   "execution_count": null,
   "metadata": {},
   "outputs": [],
   "source": []
  },
  {
   "cell_type": "markdown",
   "metadata": {},
   "source": [
    "## Step 1: Pick a dataset\n",
    "\n",
    "In this step, you should pick a dataset that looks interesting to you. Any tabular dataset that looks interesting to you and allows you to do data analysis would be appropriate for this assignment. You are highly encouraged to find data that is related to your interests (education, business, sports, politics ...). You might want to try Google [dataset search](https://datasetsearch.research.google.com/) or Prof. Keegan's [list](https://medium.com/information-expositions/list-of-lists-of-datasets-c9bf52370755) of datasets for ideas."
   ]
  },
  {
   "cell_type": "raw",
   "metadata": {},
   "source": [
    "In this cell, briefly explain what seems interesting to you about this dataset. What are you curious to learn?]"
   ]
  },
  {
   "cell_type": "markdown",
   "metadata": {},
   "source": [
    "## Step 2: Read in the data\n",
    "\n",
    "Download the data and load it in your notebook in a dataframe called df"
   ]
  },
  {
   "cell_type": "code",
   "execution_count": 1,
   "metadata": {},
   "outputs": [],
   "source": [
    "# your code here"
   ]
  },
  {
   "cell_type": "markdown",
   "metadata": {},
   "source": [
    "## Step 3: Investigate the data\n",
    "\n",
    "Think back to how we learned how to form questions from SQL databases by exploring the quesiton. This time, we're going to the same thing with Panadas. You should write code to explore the dataset using the pandas methods that you have learned in this class. If you are not sure how to do this, you might want to look back on HW1 for ideas."
   ]
  },
  {
   "cell_type": "code",
   "execution_count": 2,
   "metadata": {},
   "outputs": [],
   "source": [
    "# your data exploration code here"
   ]
  },
  {
   "cell_type": "code",
   "execution_count": null,
   "metadata": {},
   "outputs": [],
   "source": []
  },
  {
   "cell_type": "markdown",
   "metadata": {},
   "source": [
    "#### Questions\n",
    "\n",
    "1. How many rows are in the dataset?\n",
    "2. How many columns?\n",
    "3. What do you think the columns represent?"
   ]
  },
  {
   "cell_type": "markdown",
   "metadata": {},
   "source": [
    "Your answers here"
   ]
  },
  {
   "cell_type": "markdown",
   "metadata": {},
   "source": []
  },
  {
   "cell_type": "markdown",
   "metadata": {},
   "source": [
    "## Step 4: Validate the data against another source\n",
    "\n",
    "Data does not emerge from nowhere. It is deliberately collected and stored as part of social processes. Find some aspect of your data and validate it against another source. You will need to write some code and do some research for this. For instance, when we investigated the baseball database we found that certain players had played in dozens of all star games. We could validate that data by checking Wikipedia (another source) to see if the data seemed to accurately represent baseball history. You are highly encouraged to be creative in doing validation. For instance, if you are looking at data about high school graduation rates you might need to compute the mean graduation rate from your dataset and compare it to official graduation statistics provided by school district leaders news articles. Do the statistics match? Are they close? What might account for discrepancies? To answer this question, you should write code and describe your research, linking to sources where appropriate."
   ]
  },
  {
   "cell_type": "code",
   "execution_count": 3,
   "metadata": {},
   "outputs": [],
   "source": [
    "# your code here"
   ]
  },
  {
   "cell_type": "markdown",
   "metadata": {},
   "source": [
    "Your written explanation here"
   ]
  },
  {
   "cell_type": "markdown",
   "metadata": {},
   "source": [
    "## Step 5: Make a plot\n",
    "\n",
    "In this step, you should make some plot to investigate the data. For instance, while exploring the resume experiment in-class, we made a histogram to investigate the distribution of years of experience among the two groups in the experiment. What plot would help you understand your dataset? Any plot that illuminates something interesting about your dataset will be OK -- your focus should be less on getting the plot to appear on screen than on visually representing some interesting phenomenon in the data. \n",
    "\n",
    "Be sure to consider the aesthetics of your plot. For instance, do the plot axis show all of the relevant data? Can people read the labels on your plot? You might want to search for style guides or best practices for data visualization for things to consider for your particular kind of plot."
   ]
  },
  {
   "cell_type": "code",
   "execution_count": 4,
   "metadata": {},
   "outputs": [],
   "source": [
    "# your code here"
   ]
  },
  {
   "cell_type": "markdown",
   "metadata": {},
   "source": [
    "## Step 6: Group and aggregate the data\n",
    "\n",
    "Perform some operations to group and aggregate the data. You might use a pivot table to review the minumum of two groups. Or you might use a pandas `groupby` operation to compute the mean of different groups. How you perform these operations is up to you! But your operations should be motivated by an interesting question that is partially illuminated by your data exploration."
   ]
  },
  {
   "cell_type": "code",
   "execution_count": 5,
   "metadata": {},
   "outputs": [],
   "source": [
    "# your code here"
   ]
  },
  {
   "cell_type": "markdown",
   "metadata": {},
   "source": [
    "## Step 7: State questions and conclusions\n",
    "\n",
    "At this point, you should have at least some sense of some properties of your data. What questions might your data help answer? What did you learn from the dataset that might answer these questions? Answer with a short paragraph below. Your explanation should link to external resources that validate your conclusions, or reflect them in a new light (e.g. news stories that describe anecdotal versions of what you have found from your analysis). "
   ]
  },
  {
   "cell_type": "markdown",
   "metadata": {},
   "source": [
    "Your written explanation here"
   ]
  }
 ],
 "metadata": {
  "kernelspec": {
   "display_name": "Python 3 (ipykernel)",
   "language": "python",
   "name": "python3"
  },
  "language_info": {
   "codemirror_mode": {
    "name": "ipython",
    "version": 3
   },
   "file_extension": ".py",
   "mimetype": "text/x-python",
   "name": "python",
   "nbconvert_exporter": "python",
   "pygments_lexer": "ipython3",
   "version": "3.8.3"
  }
 },
 "nbformat": 4,
 "nbformat_minor": 4
}
