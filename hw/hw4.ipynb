{
 "cells": [
  {
   "cell_type": "markdown",
   "metadata": {},
   "source": [
    "# INFO 3401 – Homework 4\n",
    "\n",
    "\n",
    "In this homework, you will gain practice performing exploratory data analysis of a new data set using SQL. The homework is similar to homework two -- only this time you will again pick the dataset, the question, and your plan for analysis. There is also a question on hypothesis testing and quantitative reasoning. SQL is a very, very common data science tool and it makes sense to spend time practicing SQL to solidify and reinforce your understanding of databases. This homework is intended to give you this opportunity.\n",
    "\n",
    "In the real world, doing data analysis is not a matter of completing steps assigned to you by an instructor. So in this HW, like in HW3, you will get the chance to investigate your own question. You are highly encouraged to challenge yourself and really investigate something that is interesting to you while doing this assignment."
   ]
  },
  {
   "cell_type": "markdown",
   "metadata": {},
   "source": [
    "## Step 0: Load libraries\n",
    "\n",
    "Load the libraries you need. You will probably want to load utilities for reading sqlite files, like we used in class in our SQL unit. "
   ]
  },
  {
   "cell_type": "code",
   "execution_count": null,
   "metadata": {},
   "outputs": [],
   "source": []
  },
  {
   "cell_type": "markdown",
   "metadata": {},
   "source": [
    "## Step 1: Pick a dataset\n",
    "\n",
    "In this step, you should pick a dataset that looks interesting to you. Any relational dataset (i.e. SQLlite database) that looks interesting to you and allows you to do data analysis would be appropriate for this assignment. You might want to try [Kaggle](https://www.kaggle.com/datasets?fileType=sqlite), Google [dataset search](https://datasetsearch.research.google.com/) or Prof. Keegan's [list](https://medium.com/information-expositions/list-of-lists-of-datasets-c9bf52370755) of datasets for ideas. **You must use a sqlite file for this assignment**."
   ]
  },
  {
   "cell_type": "code",
   "execution_count": null,
   "metadata": {},
   "outputs": [],
   "source": []
  },
  {
   "cell_type": "markdown",
   "metadata": {},
   "source": [
    "In this cell, briefly explain what questions you are curious to ask, using this dataset."
   ]
  },
  {
   "cell_type": "markdown",
   "metadata": {},
   "source": [
    "## Step 2: Read in the data\n",
    "\n",
    "Download the sqlite file and load it in your notebook. Use `SELECT` statements with `LIMIT` clauses to investigate a few tables in the database, like in the in-class examples from our SQL unit. What tables do you see? Explain what you think two of the tables represent."
   ]
  },
  {
   "cell_type": "code",
   "execution_count": 1,
   "metadata": {},
   "outputs": [],
   "source": [
    "# your code here"
   ]
  },
  {
   "cell_type": "markdown",
   "metadata": {},
   "source": [
    "## Step 3: Investigate the data\n",
    "\n",
    "Think back to how we learned how to form questions from SQL databases by exploring the data. Write code to explore the dataset using the SQL statements you have learned in this class. If you are not sure how to do this, you might want to look back on HW2 for ideas. While investigating the data you must: \n",
    "\n",
    "1. Perform 1 JOIN\n",
    "2. Perform 1 GROUP BY\n",
    "3. Perform 1 aggregation (MIN/MAX/AVG) etc"
   ]
  },
  {
   "cell_type": "code",
   "execution_count": 1,
   "metadata": {},
   "outputs": [],
   "source": [
    "# your code here"
   ]
  },
  {
   "cell_type": "code",
   "execution_count": null,
   "metadata": {},
   "outputs": [],
   "source": []
  },
  {
   "cell_type": "markdown",
   "metadata": {},
   "source": [
    "Your answers here"
   ]
  },
  {
   "cell_type": "markdown",
   "metadata": {},
   "source": [
    "## Step 4: Validate the data against another source\n",
    "\n",
    "Data does not emerge from nowhere! It is deliberately collected and stored as part of social processes. \n",
    "\n",
    "Find some aspect of your data and validate it against another source. You will need to write some code and do some research for this. For instance, when we investigated the baseball database we found that certain players had played in dozens of all star games. We could validate that data by checking Wikipedia (another source) to see if the data seemed to accurately represent baseball history. You are highly encouraged to be creative in doing validation. For instance, if you are looking at data about high school graduation rates you might need to compute the mean graduation rate from your dataset and compare it to official graduation statistics provided by school district leaders in news articles. Do the statistics match? Are they close? What might account for discrepancies? To answer this question, you should write code and describe your research, linking to sources where appropriate."
   ]
  },
  {
   "cell_type": "code",
   "execution_count": 3,
   "metadata": {},
   "outputs": [],
   "source": [
    "# your code here"
   ]
  },
  {
   "cell_type": "markdown",
   "metadata": {},
   "source": [
    "Your written explanation here"
   ]
  },
  {
   "cell_type": "markdown",
   "metadata": {},
   "source": [
    "## Step 5: Make a plot\n",
    "\n",
    "In this step, you should make some plot to investigate the data. To do this you will need to (1) organize data in SQL, (2) load the data into a dataframe and (3) make a plot. You may need to perform data cleaning or organization at different points in this process.\n",
    "\n",
    "For instance, while exploring the resume experiment in-class, we made a histogram to investigate the distribution of years of experience among the two groups in the experiment. What plot would help you understand your dataset? You could consider a scatterplot, a line plot, a histogram, a collection of side-by-side histograms, etc.\n",
    "\n",
    "As in HW3, any plot that illuminates something interesting about your dataset will be OK -- your focus should be less on getting the plot to appear on screen than on visually representing some interesting phenomenon in the data. \n",
    "\n",
    "As in HW3, be sure to consider the aesthetics of your plot. For instance, do the plot axis show all of the relevant data? Can people read the labels on your plot? You might want to search for style guides or best practices for data visualization for things to consider for your particular kind of plot."
   ]
  },
  {
   "cell_type": "code",
   "execution_count": 4,
   "metadata": {},
   "outputs": [],
   "source": [
    "# your code here"
   ]
  },
  {
   "cell_type": "markdown",
   "metadata": {},
   "source": [
    "## Step 6: State questions and conclusions\n",
    "\n",
    "At this point, you should be able to express conclusions about your data. What questions might your data help answer? What did you learn from the dataset that might answer these questions? Answer with a short paragraph below. Your explanation should link to external resources that validate your conclusions, or reflect them in a new light (e.g. news stories that describe anecdotal versions of what you have found from your analysis). "
   ]
  },
  {
   "cell_type": "markdown",
   "metadata": {},
   "source": [
    "Your written explanation here"
   ]
  },
  {
   "cell_type": "markdown",
   "metadata": {},
   "source": [
    "## Step 7: Propose an experiment\n",
    "\n",
    "Imagine that you had a budget of $5000 to perform an experiment to ask a follow up question, related to your conclusions. What experiment would you perform? What outcome variable would you measure? What would the null hypothesis be? What would the alternative hypothesis be? Answer with a brief paragraph."
   ]
  }
 ],
 "metadata": {
  "kernelspec": {
   "display_name": "Python 3 (ipykernel)",
   "language": "python",
   "name": "python3"
  },
  "language_info": {
   "codemirror_mode": {
    "name": "ipython",
    "version": 3
   },
   "file_extension": ".py",
   "mimetype": "text/x-python",
   "name": "python",
   "nbconvert_exporter": "python",
   "pygments_lexer": "ipython3",
   "version": "3.8.3"
  }
 },
 "nbformat": 4,
 "nbformat_minor": 4
}
